{
 "cells": [
  {
   "cell_type": "code",
   "execution_count": 1,
   "id": "f9619da1-c33d-4fda-9113-e77ec93857cb",
   "metadata": {},
   "outputs": [],
   "source": [
    "# !pip install -q -U git+https://github.com/huggingface/trl@a3c5b7178ac4f65569975efadc97db2f3749c65e\n",
    "# !pip install -q -U git+https://github.com/huggingface/peft@4a1559582281fc3c9283892caea8ccef1d6f5a4f"
   ]
  },
  {
   "cell_type": "code",
   "execution_count": 2,
   "id": "bff66e03-2a82-4067-bd11-637986e2a85d",
   "metadata": {},
   "outputs": [],
   "source": [
    "import os\n",
    "os.environ[\"CUDA_VISIBLE_DEVICES\"] = \"0\"\n",
    "os.environ[\"TOKENIZERS_PARALLELISM\"] = \"false\""
   ]
  },
  {
   "cell_type": "markdown",
   "id": "041e464c-2bce-4040-ab0b-2784b07f94f5",
   "metadata": {},
   "source": [
    "#### import warnings\n",
    "warnings.filterwarnings(\"ignore\")"
   ]
  },
  {
   "cell_type": "code",
   "execution_count": 3,
   "id": "49ee0233-3f72-41d7-8028-0041fff779e3",
   "metadata": {},
   "outputs": [
    {
     "name": "stderr",
     "output_type": "stream",
     "text": [
      "2024-04-18 13:57:24.068050: I tensorflow/core/util/port.cc:113] oneDNN custom operations are on. You may see slightly different numerical results due to floating-point round-off errors from different computation orders. To turn them off, set the environment variable `TF_ENABLE_ONEDNN_OPTS=0`.\n",
      "2024-04-18 13:57:24.107169: E external/local_xla/xla/stream_executor/cuda/cuda_dnn.cc:9261] Unable to register cuDNN factory: Attempting to register factory for plugin cuDNN when one has already been registered\n",
      "2024-04-18 13:57:24.107195: E external/local_xla/xla/stream_executor/cuda/cuda_fft.cc:607] Unable to register cuFFT factory: Attempting to register factory for plugin cuFFT when one has already been registered\n",
      "2024-04-18 13:57:24.108317: E external/local_xla/xla/stream_executor/cuda/cuda_blas.cc:1515] Unable to register cuBLAS factory: Attempting to register factory for plugin cuBLAS when one has already been registered\n",
      "2024-04-18 13:57:24.115157: I tensorflow/core/platform/cpu_feature_guard.cc:182] This TensorFlow binary is optimized to use available CPU instructions in performance-critical operations.\n",
      "To enable the following instructions: AVX2 AVX512F AVX512_VNNI FMA, in other operations, rebuild TensorFlow with the appropriate compiler flags.\n"
     ]
    }
   ],
   "source": [
    "import numpy as np\n",
    "import pandas as pd\n",
    "import os\n",
    "from tqdm import tqdm\n",
    "import bitsandbytes as bnb\n",
    "import torch\n",
    "import torch.nn as nn\n",
    "import transformers\n",
    "from datasets import Dataset\n",
    "from peft import LoraConfig, PeftConfig\n",
    "from trl import SFTTrainer\n",
    "# from trl import setup_chat_format\n",
    "from transformers import (AutoModelForCausalLM, \n",
    "                          AutoTokenizer, \n",
    "                          BitsAndBytesConfig, \n",
    "                          TrainingArguments, \n",
    "                          pipeline, \n",
    "                          logging)\n",
    "from sklearn.metrics import (accuracy_score, \n",
    "                             classification_report, \n",
    "                             confusion_matrix)"
   ]
  },
  {
   "cell_type": "code",
   "execution_count": 4,
   "id": "7b976f8d-8a83-4cdb-9b41-9c558cf52fe9",
   "metadata": {},
   "outputs": [
    {
     "name": "stdout",
     "output_type": "stream",
     "text": [
      "working on cuda:0\n"
     ]
    }
   ],
   "source": [
    "device = torch.device(\"cuda:0\" if torch.cuda.is_available() else \"cpu\")\n",
    "print(f\"working on {device}\")"
   ]
  },
  {
   "cell_type": "code",
   "execution_count": 5,
   "id": "cb432033-af2f-43a3-9447-94803bf27155",
   "metadata": {},
   "outputs": [
    {
     "data": {
      "application/vnd.jupyter.widget-view+json": {
       "model_id": "d66c055626cd4b6eab2f806a8bcf8446",
       "version_major": 2,
       "version_minor": 0
      },
      "text/plain": [
       "Loading checkpoint shards:   0%|          | 0/3 [00:00<?, ?it/s]"
      ]
     },
     "metadata": {},
     "output_type": "display_data"
    }
   ],
   "source": [
    "# model_name = \"meta-llama/Llama-2-7b-hf\"\n",
    "# model_name = \"meta-llama/Llama-2-13b-chat-hf\"\n",
    "# model_name = \"nousresearch/llama-2-7b-hf\"\n",
    "# model_name='DevilGod870/Llama-2-7b-chat-Hinglish'\n",
    "# peft_model_id = \"nateraw/llama-2-7b-english-to-hinglish\"\n",
    "model_name='sarvamai/OpenHathi-7B-Hi-v0.1-Base'\n",
    "compute_dtype = getattr(torch, \"float16\")\n",
    "\n",
    "bnb_config = BitsAndBytesConfig(\n",
    "    load_in_4bit=True, \n",
    "    bnb_4bit_quant_type=\"nf4\", \n",
    "    bnb_4bit_compute_dtype=compute_dtype,\n",
    "    bnb_4bit_use_double_quant=True,\n",
    ")\n",
    "\n",
    "model = AutoModelForCausalLM.from_pretrained(\n",
    "    model_name,\n",
    "    device_map=device,\n",
    "    torch_dtype=compute_dtype,\n",
    "    quantization_config=bnb_config, \n",
    ")\n",
    "\n",
    "model.config.use_cache = False\n",
    "model.config.pretraining_tp = 1\n",
    "\n",
    "tokenizer = AutoTokenizer.from_pretrained(model_name, \n",
    "                                          trust_remote_code=True,\n",
    "                                         )\n",
    "tokenizer.pad_token = tokenizer.eos_token\n",
    "tokenizer.padding_side = \"right\"\n"
   ]
  },
  {
   "cell_type": "code",
   "execution_count": 6,
   "id": "e6b822b5-9cfc-4e79-b44e-ebf8f6ed76dc",
   "metadata": {},
   "outputs": [],
   "source": [
    "# from peft import PeftModel\n",
    "# model = PeftModel.from_pretrained(model, peft_model_id)"
   ]
  },
  {
   "cell_type": "code",
   "execution_count": 7,
   "id": "aebcc679-de00-4284-9d35-7de684c42b01",
   "metadata": {},
   "outputs": [
    {
     "data": {
      "application/vnd.jupyter.widget-view+json": {
       "model_id": "ff9bce9429b04f4fab8847a52a040fb7",
       "version_major": 2,
       "version_minor": 0
      },
      "text/plain": [
       "Map:   0%|          | 0/259 [00:00<?, ? examples/s]"
      ]
     },
     "metadata": {},
     "output_type": "display_data"
    },
    {
     "data": {
      "text/plain": [
       "Dataset({\n",
       "    features: ['text'],\n",
       "    num_rows: 259\n",
       "})"
      ]
     },
     "execution_count": 7,
     "metadata": {},
     "output_type": "execute_result"
    }
   ],
   "source": [
    "from datasets import load_dataset\n",
    "def format_dolly(sample):\n",
    "    context = f\"\\n Question: {sample['instruction']} \"\n",
    "    instruction = f\" Answer the following question based on the information in the given passage. \\n Passage: {sample['context']} [/context]\" if len(sample[\"context\"]) > 0 else None\n",
    "    response = f\" \\n Answer: {sample['response']} \"\n",
    "    # join all the parts together\n",
    "    prompt = \"\".join([i for i in [instruction, context, response] if i is not None])\n",
    "    return prompt\n",
    "\n",
    "# template dataset to add prompt to each sample\n",
    "def template_dataset(sample):\n",
    "    sample[\"text\"] = f\"{format_dolly(sample)}{tokenizer.eos_token}\"\n",
    "    return sample\n",
    "\n",
    "# apply prompt template per sample\n",
    "dataset = load_dataset(\"Vishwanath0912/qa_en_hi\", split=\"train\")\n",
    "\n",
    "# Shuffle the dataset\n",
    "dataset_shuffled = dataset.shuffle(seed=42)\n",
    "\n",
    "# Select the first 50 rows from the shuffled dataset, comment if you want 15k\n",
    "dataset = dataset_shuffled\n",
    "\n",
    "train_data = dataset.map(template_dataset, remove_columns=list(dataset.features))\n",
    "train_data"
   ]
  },
  {
   "cell_type": "code",
   "execution_count": 8,
   "id": "f3223c4f-9697-4445-ab16-eca6b996d4f5",
   "metadata": {},
   "outputs": [
    {
     "data": {
      "text/plain": [
       "{'text': \" Answer the following question based on the information in the given passage. \\n Passage: Djokovic and Murray met for the first time since the aforementioned French Open final in the championship match of the season - concluding ATP World Tour Finals in London in November . Of the five meetings ( all in championship matches ) that took place between the pair in 2016 , this one had added significance , as for the first time in tournament history , the two finalists had the chance to become year - end number 1 by winning the title . The stakes were high in Djokovic 's case , as a win would have seen him win his fifth consecutive year - end title , and sixth overall ( matching the record held by Roger Federer ) ; Murray , on the other hand , was shooting for his first year - end title , having qualified for the championship match for the first time . Ultimately , Murray won in straight sets , ensuring he ended the year ranked world number one , and also becoming the first man other than Djokovic , Federer or Rafael Nadal to finish the year at the top of the rankings since Andy Roddick in 2003 . [/context]\\n Question: Roger Federer ne first grand slam kab win kiya tha ?  \\n Answer: 2003 </s>\"}"
      ]
     },
     "execution_count": 8,
     "metadata": {},
     "output_type": "execute_result"
    }
   ],
   "source": [
    "train_data[0]"
   ]
  },
  {
   "cell_type": "code",
   "execution_count": 9,
   "id": "cfa7da0f-0abd-468e-a483-d247115cedca",
   "metadata": {},
   "outputs": [
    {
     "data": {
      "application/vnd.jupyter.widget-view+json": {
       "model_id": "b549b8e52dfd4ac2accad676bf8f328d",
       "version_major": 2,
       "version_minor": 0
      },
      "text/plain": [
       "Map:   0%|          | 0/259 [00:00<?, ? examples/s]"
      ]
     },
     "metadata": {},
     "output_type": "display_data"
    },
    {
     "data": {
      "application/vnd.jupyter.widget-view+json": {
       "model_id": "fbdaf0e0f34f4226bd0323bf4a5b8b6c",
       "version_major": 2,
       "version_minor": 0
      },
      "text/plain": [
       "Map:   0%|          | 0/259 [00:00<?, ? examples/s]"
      ]
     },
     "metadata": {},
     "output_type": "display_data"
    },
    {
     "name": "stderr",
     "output_type": "stream",
     "text": [
      "Detected kernel version 5.4.0, which is below the recommended minimum of 5.5.0; this can cause the process to hang. It is recommended to upgrade the kernel to the minimum version or higher.\n"
     ]
    }
   ],
   "source": [
    "output_dir=\"trained_weigths\"\n",
    "\n",
    "peft_config = LoraConfig(\n",
    "        lora_alpha=32, \n",
    "        lora_dropout=0.05,\n",
    "        r=16,\n",
    "        bias=\"none\",\n",
    "        target_modules= [\"q_proj\", \"v_proj\", \"k_proj\", \"down_proj\", \"gate_proj\", \"up_proj\"],\n",
    "        task_type=\"CAUSAL_LM\",\n",
    ")\n",
    "\n",
    "training_arguments = TrainingArguments(\n",
    "    output_dir=output_dir,                    # directory to save and repository id\n",
    "    num_train_epochs=10,                       # number of training epochs\n",
    "    per_device_train_batch_size=4,            # batch size per device during training\n",
    "    gradient_accumulation_steps=16,            # number of steps before performing a backward/update pass\n",
    "    gradient_checkpointing=True,              # use gradient checkpointing to save memory\n",
    "    optim=\"paged_adamw_32bit\",\n",
    "    save_steps=0,\n",
    "    logging_steps=25,                         # log every 10 steps\n",
    "    learning_rate=5e-4,                       # learning rate, based on QLoRA paper\n",
    "    weight_decay=0.001,\n",
    "    fp16=True,\n",
    "    bf16=False,\n",
    "    max_grad_norm=0.3,                        # max gradient norm based on QLoRA paper\n",
    "    max_steps=-1,\n",
    "    warmup_ratio=0.03,                        # warmup ratio based on QLoRA paper\n",
    "    group_by_length=True,\n",
    "    lr_scheduler_type=\"cosine\",               # use cosine learning rate scheduler\n",
    "    report_to=\"tensorboard\",                  # report metrics to tensorboard\n",
    "    evaluation_strategy=\"epoch\"               # save checkpoint every epoch\n",
    ")\n",
    "\n",
    "trainer = SFTTrainer(\n",
    "    model=model,\n",
    "    args=training_arguments,\n",
    "    train_dataset=train_data,\n",
    "    eval_dataset=train_data,\n",
    "    peft_config=peft_config,\n",
    "    dataset_text_field=\"text\",\n",
    "    tokenizer=tokenizer,\n",
    "    max_seq_length=1024,\n",
    "    packing=False,\n",
    "    dataset_kwargs={\n",
    "        \"add_special_tokens\": False,\n",
    "        \"append_concat_token\": False,\n",
    "    }\n",
    ")"
   ]
  },
  {
   "cell_type": "code",
   "execution_count": 10,
   "id": "a0586b48-bae7-4f6f-b3be-18297617ebe6",
   "metadata": {},
   "outputs": [
    {
     "name": "stderr",
     "output_type": "stream",
     "text": [
      "/usr/local/lib/python3.11/dist-packages/torch/utils/checkpoint.py:460: UserWarning: torch.utils.checkpoint: please pass in use_reentrant=True or use_reentrant=False explicitly. The default value of use_reentrant will be updated to be False in the future. To maintain current behavior, pass use_reentrant=True. It is recommended that you use use_reentrant=False. Refer to docs for more details on the differences between the two variants.\n",
      "  warnings.warn(\n"
     ]
    },
    {
     "data": {
      "text/html": [
       "\n",
       "    <div>\n",
       "      \n",
       "      <progress value='40' max='40' style='width:300px; height:20px; vertical-align: middle;'></progress>\n",
       "      [40/40 15:15, Epoch 9/10]\n",
       "    </div>\n",
       "    <table border=\"1\" class=\"dataframe\">\n",
       "  <thead>\n",
       " <tr style=\"text-align: left;\">\n",
       "      <th>Epoch</th>\n",
       "      <th>Training Loss</th>\n",
       "      <th>Validation Loss</th>\n",
       "    </tr>\n",
       "  </thead>\n",
       "  <tbody>\n",
       "    <tr>\n",
       "      <td>0</td>\n",
       "      <td>No log</td>\n",
       "      <td>2.003998</td>\n",
       "    </tr>\n",
       "    <tr>\n",
       "      <td>1</td>\n",
       "      <td>No log</td>\n",
       "      <td>1.668482</td>\n",
       "    </tr>\n",
       "    <tr>\n",
       "      <td>2</td>\n",
       "      <td>No log</td>\n",
       "      <td>1.474362</td>\n",
       "    </tr>\n",
       "    <tr>\n",
       "      <td>3</td>\n",
       "      <td>No log</td>\n",
       "      <td>1.274148</td>\n",
       "    </tr>\n",
       "    <tr>\n",
       "      <td>4</td>\n",
       "      <td>No log</td>\n",
       "      <td>1.033255</td>\n",
       "    </tr>\n",
       "    <tr>\n",
       "      <td>5</td>\n",
       "      <td>No log</td>\n",
       "      <td>0.833922</td>\n",
       "    </tr>\n",
       "    <tr>\n",
       "      <td>6</td>\n",
       "      <td>1.446900</td>\n",
       "      <td>0.691861</td>\n",
       "    </tr>\n",
       "    <tr>\n",
       "      <td>7</td>\n",
       "      <td>1.446900</td>\n",
       "      <td>0.603872</td>\n",
       "    </tr>\n",
       "    <tr>\n",
       "      <td>8</td>\n",
       "      <td>1.446900</td>\n",
       "      <td>0.560728</td>\n",
       "    </tr>\n",
       "    <tr>\n",
       "      <td>9</td>\n",
       "      <td>1.446900</td>\n",
       "      <td>0.552723</td>\n",
       "    </tr>\n",
       "  </tbody>\n",
       "</table><p>"
      ],
      "text/plain": [
       "<IPython.core.display.HTML object>"
      ]
     },
     "metadata": {},
     "output_type": "display_data"
    },
    {
     "data": {
      "text/plain": [
       "TrainOutput(global_step=40, training_loss=1.1208080053329468, metrics={'train_runtime': 932.3139, 'train_samples_per_second': 2.778, 'train_steps_per_second': 0.043, 'total_flos': 3.782102468124672e+16, 'train_loss': 1.1208080053329468, 'epoch': 9.85})"
      ]
     },
     "execution_count": 10,
     "metadata": {},
     "output_type": "execute_result"
    }
   ],
   "source": [
    "trainer.train()"
   ]
  },
  {
   "cell_type": "code",
   "execution_count": 11,
   "id": "7b060f02-b6fe-4f87-942a-8f13e76ea414",
   "metadata": {},
   "outputs": [
    {
     "data": {
      "text/plain": [
       "('trained_weigths/tokenizer_config.json',\n",
       " 'trained_weigths/special_tokens_map.json',\n",
       " 'trained_weigths/tokenizer.model',\n",
       " 'trained_weigths/added_tokens.json',\n",
       " 'trained_weigths/tokenizer.json')"
      ]
     },
     "execution_count": 11,
     "metadata": {},
     "output_type": "execute_result"
    }
   ],
   "source": [
    "trainer.save_model()\n",
    "tokenizer.save_pretrained(output_dir)"
   ]
  },
  {
   "cell_type": "code",
   "execution_count": 12,
   "id": "62e39e82-c1a3-4d21-a4d9-c27054271e30",
   "metadata": {},
   "outputs": [
    {
     "data": {
      "text/plain": [
       "0"
      ]
     },
     "execution_count": 12,
     "metadata": {},
     "output_type": "execute_result"
    }
   ],
   "source": [
    "# Empty VRAM\n",
    "del model\n",
    "# del pipe\n",
    "del trainer\n",
    "import gc\n",
    "gc.collect()\n",
    "gc.collect()"
   ]
  },
  {
   "cell_type": "code",
   "execution_count": null,
   "id": "ac1242bc-3200-4997-803e-c1e5aabd2192",
   "metadata": {},
   "outputs": [],
   "source": []
  },
  {
   "cell_type": "code",
   "execution_count": 13,
   "id": "550197fa-57d5-4440-8513-61c1a48d9bce",
   "metadata": {},
   "outputs": [
    {
     "data": {
      "application/vnd.jupyter.widget-view+json": {
       "model_id": "a3c373c834204a18b6fe1ee4096e0819",
       "version_major": 2,
       "version_minor": 0
      },
      "text/plain": [
       "Loading checkpoint shards:   0%|          | 0/3 [00:00<?, ?it/s]"
      ]
     },
     "metadata": {},
     "output_type": "display_data"
    },
    {
     "data": {
      "text/plain": [
       "('./merged_model/tokenizer_config.json',\n",
       " './merged_model/special_tokens_map.json',\n",
       " './merged_model/tokenizer.model',\n",
       " './merged_model/added_tokens.json',\n",
       " './merged_model/tokenizer.json')"
      ]
     },
     "execution_count": 13,
     "metadata": {},
     "output_type": "execute_result"
    }
   ],
   "source": [
    "from peft import AutoPeftModelForCausalLM\n",
    "\n",
    "finetuned_model = \"./trained_weigths/\"\n",
    "compute_dtype = getattr(torch, \"float16\")\n",
    "tokenizer = AutoTokenizer.from_pretrained(\"meta-llama/Llama-2-7b-hf\")\n",
    "\n",
    "model = AutoPeftModelForCausalLM.from_pretrained(\n",
    "     finetuned_model,\n",
    "     torch_dtype=compute_dtype,\n",
    "     return_dict=False,\n",
    "     low_cpu_mem_usage=True,\n",
    "     device_map=device,\n",
    ")\n",
    "\n",
    "merged_model = model.merge_and_unload()\n",
    "merged_model.save_pretrained(\"./merged_model\",safe_serialization=True, max_shard_size=\"2GB\")\n",
    "tokenizer.save_pretrained(\"./merged_model\")"
   ]
  },
  {
   "cell_type": "markdown",
   "id": "042b2bfd-fff7-45e5-b436-3d36589e84a0",
   "metadata": {},
   "source": [
    "# Testing\n"
   ]
  },
  {
   "cell_type": "code",
   "execution_count": 14,
   "id": "bea15843-3877-4780-ba18-780e10f89ee3",
   "metadata": {},
   "outputs": [
    {
     "data": {
      "application/vnd.jupyter.widget-view+json": {
       "model_id": "7ad0e03e7a2c40888df461bde066ac1c",
       "version_major": 2,
       "version_minor": 0
      },
      "text/plain": [
       "Map:   0%|          | 0/54 [00:00<?, ? examples/s]"
      ]
     },
     "metadata": {},
     "output_type": "display_data"
    },
    {
     "data": {
      "text/plain": [
       "Dataset({\n",
       "    features: ['text'],\n",
       "    num_rows: 54\n",
       "})"
      ]
     },
     "execution_count": 14,
     "metadata": {},
     "output_type": "execute_result"
    }
   ],
   "source": [
    "from datasets import load_dataset\n",
    "def format_dolly(sample):\n",
    "    context = f\"\\n Question: {sample['instruction']} \"\n",
    "    instruction = f\" Answer the following question based on the information in the given passage. \\n Passage: {sample['context']} [/context]\" if len(sample[\"context\"]) > 0 else None\n",
    "    response = f\" \\n Answer: \"\n",
    "    # join all the parts together\n",
    "    prompt = \"\".join([i for i in [instruction, context, response] if i is not None])\n",
    "    return prompt\n",
    "\n",
    "# template dataset to add prompt to each sample\n",
    "def template_dataset(sample):\n",
    "    sample[\"text\"] = f\"{format_dolly(sample)}{tokenizer.eos_token}\"\n",
    "    return sample\n",
    "\n",
    "# apply prompt template per sample\n",
    "dataset = load_dataset(\"Vishwanath0912/qa_en_hi\", split=\"validation\")\n",
    "\n",
    "# Shuffle the dataset\n",
    "# dataset_shuffled = dataset.shuffle(seed=42)\n",
    "\n",
    "# Select the first 50 rows from the shuffled dataset, comment if you want 15k\n",
    "# dataset = dataset_shuffled\n",
    "\n",
    "dataset = dataset.map(template_dataset, remove_columns=list(dataset.features))\n",
    "dataset"
   ]
  },
  {
   "cell_type": "code",
   "execution_count": 15,
   "id": "71cffb52-f786-4fa6-8a69-f400d26633ab",
   "metadata": {},
   "outputs": [
    {
     "data": {
      "text/plain": [
       "' Answer the following question based on the information in the given passage. \\n Passage: RTGS (Real Time Gross Settlement ) aur NEFT (National Electronic Funds Transfer) dono hi India mein Online paise bhejne ka jariya hain, Jiske dwara aap alag-alag Bank Accounts mein money transfer kar sakte hain. In dono payment System ko Reserve Bank of  India (RBI) manage karta hain. In dono payment system ke jariye sirf aap India ke andar hi paise send kar sakte hain. Aaiye jante hain dono mein kya difference hota hain. RTGS mein Funds turant hi transfer ho jate hain. Yeh different Bank ke beech mein fund transfer karne ka sabse fast medium hain. Rule yeh hain ki jis Bank ko paisa send kya gya hain usay receiver ke account mein 30 minutes ke andar paisa credit kar dena hota hain. Dusri aor NEFT ke tahat paise turant transfer nahi ho paate hain. Is System mein hours ke according time slot mein kaam hota hain. Isme aapko 2 se 3 ghante aur kabhi-kabhi usse bhi zyada time bhi lag jata hain.  Kya Bank account ka hona jaroori hain? Jinka Saving Account ya Current Account hain, Veh customer NEFT aur RTGS dono hi services ka use kar sakte hain. Lekin, jinke Bank account nahi hain, Veh sirf NEFT wali Branches mein cash deposit kar sakte hain. Halanki aap NEFT ke tahat 50,000 rupees se jyada Cash jama nahi karwa sakte hain.  Kab se kab tak hota hain transaction ? Aap RTGS ke tahat Morning 8 baje se shaam 4:30 Baje tak hi paise bhej sakte hain. Vah bhi jis din Bank open huye hote hain. Vahi, NEFT mein Subah 8 Baje se lekar shaam 7 Baje tak total 12 transfer kar sakte hain. Halanki, kai baar alag-alag Bank alag-alag time ka palan karte hain.  Online RTGS aap time table ke according hi kar sakte hain. Lekin online NEFT ke tahat agar Paisa time rahte nahi bheja gya toh saamne wale ko paisa Bank ke next working day par hi paisa milega.  Kitna Amount Send kar sakte hain? RTGS system ka use Big amount send karne ke liye hota hain. Isme minimum 2 Lakh aur Maximum 10 Lakh rupaye transfer kiye ja sakte hain. Vahi, NEFT mein aap jitna chahe utna paisa send kar sakte hain, Lekin yeh Sirf Online NEFT mein kar sakte hain, Offline yani ki Bank branch mein jakar Cash Deposit aap 50,000 se zyada nahi karwa karwa sakte hain.  Transaction agar Fail ho jaye toh ? RTGS ke tahat agar money send karne par agar paisa paane wale ke account mein paise jama nahi ho paye toh vah paisa automatically aapke Bank account mein dubara vaapis aa jata hain. Vahi NEFT transaction fail hone par Jis bank mein aapne paise bheje hain usay 2 hours ke andar aapke bank ko paise vaapis karne hote hain.  Charges kya hain ? Every NEFT transaction ke liye Services Tax ko chhod kar 25 Rupees se jyada charge nahi liya jayega. Vahi RTGS mein maximum fee 55 rupees hain. Aap Bank ke kisi bhi branch se transfer karne ke mukable Online Transaction karna zyada faydemand hota hain.  Kya transaction ko roka ja sakta hain? Yunki RTGS mein Real time transaction hota hain, isliye agar aapne transaction kar diya hain toh usay baad mein bhi rok sakte hain. Vahi, NEFT mein bhi aisa hi hota hain. [/context]\\n Question: NEFT ka full form kya hai?  \\n Answer: </s>'"
      ]
     },
     "execution_count": 15,
     "metadata": {},
     "output_type": "execute_result"
    }
   ],
   "source": [
    "dataset[0]['text']"
   ]
  },
  {
   "cell_type": "code",
   "execution_count": 16,
   "id": "61eb355f-cb72-4977-b402-716e1c332a1f",
   "metadata": {},
   "outputs": [],
   "source": [
    "# def extract_answer(strings):\n",
    "#     answers = []\n",
    "#     for s in strings:\n",
    "#         start = s.find('[answer]') + len('[answer]')\n",
    "#         end = s.find('[/answer]')\n",
    "#         in_start = s.find('[/INST]')+len('[/INST]')\n",
    "#         if start != -1 and end != -1:\n",
    "#             answers.append(s[start:end])\n",
    "#         else:\n",
    "#             answers.append(s[in_start:])\n",
    "#             # print(s)\n",
    "#     return answers"
   ]
  },
  {
   "cell_type": "code",
   "execution_count": 25,
   "id": "20a6fa5c-571f-4d27-b14a-dbbcd3395432",
   "metadata": {},
   "outputs": [],
   "source": [
    "def extract_answer(strings):\n",
    "    answers = []\n",
    "    for s in strings:\n",
    "        start = s.find('Answer:') + len('[answer]')\n",
    "        if start != -1:\n",
    "            answers.append(s[start:])\n",
    "        else:\n",
    "            answers.append(\"\")\n",
    "            # print(s)\n",
    "    return answers"
   ]
  },
  {
   "cell_type": "code",
   "execution_count": 18,
   "id": "56accbf5-8f07-4d8d-a31f-21cb267aefa2",
   "metadata": {
    "scrolled": true
   },
   "outputs": [
    {
     "name": "stderr",
     "output_type": "stream",
     "text": [
      "  0%|                                                    | 0/54 [00:00<?, ?it/s]A decoder-only architecture is being used, but right-padding was detected! For correct generation results, please set `padding_side='left'` when initializing the tokenizer.\n",
      "  2%|▊                                           | 1/54 [00:01<01:01,  1.16s/it]A decoder-only architecture is being used, but right-padding was detected! For correct generation results, please set `padding_side='left'` when initializing the tokenizer.\n",
      "  4%|█▋                                          | 2/54 [00:02<00:53,  1.03s/it]A decoder-only architecture is being used, but right-padding was detected! For correct generation results, please set `padding_side='left'` when initializing the tokenizer.\n",
      "  6%|██▍                                         | 3/54 [00:03<00:50,  1.01it/s]A decoder-only architecture is being used, but right-padding was detected! For correct generation results, please set `padding_side='left'` when initializing the tokenizer.\n",
      "  7%|███▎                                        | 4/54 [00:03<00:48,  1.04it/s]A decoder-only architecture is being used, but right-padding was detected! For correct generation results, please set `padding_side='left'` when initializing the tokenizer.\n",
      "  9%|████                                        | 5/54 [00:04<00:46,  1.05it/s]A decoder-only architecture is being used, but right-padding was detected! For correct generation results, please set `padding_side='left'` when initializing the tokenizer.\n",
      " 11%|████▉                                       | 6/54 [00:05<00:45,  1.05it/s]A decoder-only architecture is being used, but right-padding was detected! For correct generation results, please set `padding_side='left'` when initializing the tokenizer.\n",
      " 13%|█████▋                                      | 7/54 [00:06<00:44,  1.05it/s]A decoder-only architecture is being used, but right-padding was detected! For correct generation results, please set `padding_side='left'` when initializing the tokenizer.\n",
      " 15%|██████▌                                     | 8/54 [00:07<00:43,  1.05it/s]A decoder-only architecture is being used, but right-padding was detected! For correct generation results, please set `padding_side='left'` when initializing the tokenizer.\n",
      " 17%|███████▎                                    | 9/54 [00:08<00:42,  1.05it/s]A decoder-only architecture is being used, but right-padding was detected! For correct generation results, please set `padding_side='left'` when initializing the tokenizer.\n",
      " 19%|███████▉                                   | 10/54 [00:09<00:42,  1.04it/s]A decoder-only architecture is being used, but right-padding was detected! For correct generation results, please set `padding_side='left'` when initializing the tokenizer.\n",
      " 20%|████████▊                                  | 11/54 [00:10<00:43,  1.02s/it]A decoder-only architecture is being used, but right-padding was detected! For correct generation results, please set `padding_side='left'` when initializing the tokenizer.\n",
      " 22%|█████████▌                                 | 12/54 [00:11<00:44,  1.05s/it]A decoder-only architecture is being used, but right-padding was detected! For correct generation results, please set `padding_side='left'` when initializing the tokenizer.\n",
      " 24%|██████████▎                                | 13/54 [00:13<00:44,  1.08s/it]A decoder-only architecture is being used, but right-padding was detected! For correct generation results, please set `padding_side='left'` when initializing the tokenizer.\n",
      " 26%|███████████▏                               | 14/54 [00:14<00:41,  1.05s/it]A decoder-only architecture is being used, but right-padding was detected! For correct generation results, please set `padding_side='left'` when initializing the tokenizer.\n",
      " 28%|███████████▉                               | 15/54 [00:15<00:40,  1.04s/it]A decoder-only architecture is being used, but right-padding was detected! For correct generation results, please set `padding_side='left'` when initializing the tokenizer.\n",
      " 30%|████████████▋                              | 16/54 [00:16<00:40,  1.06s/it]A decoder-only architecture is being used, but right-padding was detected! For correct generation results, please set `padding_side='left'` when initializing the tokenizer.\n",
      " 31%|█████████████▌                             | 17/54 [00:17<00:37,  1.02s/it]A decoder-only architecture is being used, but right-padding was detected! For correct generation results, please set `padding_side='left'` when initializing the tokenizer.\n",
      " 33%|██████████████▎                            | 18/54 [00:18<00:35,  1.00it/s]A decoder-only architecture is being used, but right-padding was detected! For correct generation results, please set `padding_side='left'` when initializing the tokenizer.\n",
      " 35%|███████████████▏                           | 19/54 [00:19<00:34,  1.02it/s]A decoder-only architecture is being used, but right-padding was detected! For correct generation results, please set `padding_side='left'` when initializing the tokenizer.\n",
      " 37%|███████████████▉                           | 20/54 [00:19<00:32,  1.04it/s]A decoder-only architecture is being used, but right-padding was detected! For correct generation results, please set `padding_side='left'` when initializing the tokenizer.\n",
      " 39%|████████████████▋                          | 21/54 [00:20<00:31,  1.05it/s]A decoder-only architecture is being used, but right-padding was detected! For correct generation results, please set `padding_side='left'` when initializing the tokenizer.\n",
      " 41%|█████████████████▌                         | 22/54 [00:21<00:30,  1.05it/s]A decoder-only architecture is being used, but right-padding was detected! For correct generation results, please set `padding_side='left'` when initializing the tokenizer.\n",
      " 43%|██████████████████▎                        | 23/54 [00:22<00:29,  1.06it/s]A decoder-only architecture is being used, but right-padding was detected! For correct generation results, please set `padding_side='left'` when initializing the tokenizer.\n",
      " 44%|███████████████████                        | 24/54 [00:23<00:28,  1.07it/s]A decoder-only architecture is being used, but right-padding was detected! For correct generation results, please set `padding_side='left'` when initializing the tokenizer.\n",
      " 46%|███████████████████▉                       | 25/54 [00:24<00:27,  1.07it/s]A decoder-only architecture is being used, but right-padding was detected! For correct generation results, please set `padding_side='left'` when initializing the tokenizer.\n",
      " 48%|████████████████████▋                      | 26/54 [00:25<00:26,  1.07it/s]A decoder-only architecture is being used, but right-padding was detected! For correct generation results, please set `padding_side='left'` when initializing the tokenizer.\n",
      " 50%|█████████████████████▌                     | 27/54 [00:26<00:25,  1.08it/s]A decoder-only architecture is being used, but right-padding was detected! For correct generation results, please set `padding_side='left'` when initializing the tokenizer.\n",
      " 52%|██████████████████████▎                    | 28/54 [00:27<00:24,  1.08it/s]A decoder-only architecture is being used, but right-padding was detected! For correct generation results, please set `padding_side='left'` when initializing the tokenizer.\n",
      " 54%|███████████████████████                    | 29/54 [00:28<00:23,  1.08it/s]A decoder-only architecture is being used, but right-padding was detected! For correct generation results, please set `padding_side='left'` when initializing the tokenizer.\n",
      " 56%|███████████████████████▉                   | 30/54 [00:29<00:22,  1.08it/s]A decoder-only architecture is being used, but right-padding was detected! For correct generation results, please set `padding_side='left'` when initializing the tokenizer.\n",
      " 57%|████████████████████████▋                  | 31/54 [00:30<00:21,  1.08it/s]A decoder-only architecture is being used, but right-padding was detected! For correct generation results, please set `padding_side='left'` when initializing the tokenizer.\n",
      " 59%|█████████████████████████▍                 | 32/54 [00:31<00:20,  1.08it/s]A decoder-only architecture is being used, but right-padding was detected! For correct generation results, please set `padding_side='left'` when initializing the tokenizer.\n",
      " 61%|██████████████████████████▎                | 33/54 [00:31<00:19,  1.09it/s]A decoder-only architecture is being used, but right-padding was detected! For correct generation results, please set `padding_side='left'` when initializing the tokenizer.\n",
      " 63%|███████████████████████████                | 34/54 [00:32<00:18,  1.09it/s]A decoder-only architecture is being used, but right-padding was detected! For correct generation results, please set `padding_side='left'` when initializing the tokenizer.\n",
      " 65%|███████████████████████████▊               | 35/54 [00:33<00:17,  1.08it/s]A decoder-only architecture is being used, but right-padding was detected! For correct generation results, please set `padding_side='left'` when initializing the tokenizer.\n",
      " 67%|████████████████████████████▋              | 36/54 [00:34<00:16,  1.08it/s]A decoder-only architecture is being used, but right-padding was detected! For correct generation results, please set `padding_side='left'` when initializing the tokenizer.\n",
      " 69%|█████████████████████████████▍             | 37/54 [00:35<00:15,  1.08it/s]A decoder-only architecture is being used, but right-padding was detected! For correct generation results, please set `padding_side='left'` when initializing the tokenizer.\n",
      " 70%|██████████████████████████████▎            | 38/54 [00:36<00:14,  1.08it/s]A decoder-only architecture is being used, but right-padding was detected! For correct generation results, please set `padding_side='left'` when initializing the tokenizer.\n",
      " 72%|███████████████████████████████            | 39/54 [00:37<00:13,  1.08it/s]A decoder-only architecture is being used, but right-padding was detected! For correct generation results, please set `padding_side='left'` when initializing the tokenizer.\n",
      " 74%|███████████████████████████████▊           | 40/54 [00:38<00:12,  1.08it/s]A decoder-only architecture is being used, but right-padding was detected! For correct generation results, please set `padding_side='left'` when initializing the tokenizer.\n",
      " 76%|████████████████████████████████▋          | 41/54 [00:39<00:12,  1.08it/s]A decoder-only architecture is being used, but right-padding was detected! For correct generation results, please set `padding_side='left'` when initializing the tokenizer.\n",
      " 78%|█████████████████████████████████▍         | 42/54 [00:40<00:11,  1.08it/s]A decoder-only architecture is being used, but right-padding was detected! For correct generation results, please set `padding_side='left'` when initializing the tokenizer.\n",
      " 80%|██████████████████████████████████▏        | 43/54 [00:41<00:10,  1.08it/s]A decoder-only architecture is being used, but right-padding was detected! For correct generation results, please set `padding_side='left'` when initializing the tokenizer.\n",
      " 81%|███████████████████████████████████        | 44/54 [00:42<00:09,  1.09it/s]A decoder-only architecture is being used, but right-padding was detected! For correct generation results, please set `padding_side='left'` when initializing the tokenizer.\n",
      " 83%|███████████████████████████████████▊       | 45/54 [00:43<00:08,  1.09it/s]A decoder-only architecture is being used, but right-padding was detected! For correct generation results, please set `padding_side='left'` when initializing the tokenizer.\n",
      " 85%|████████████████████████████████████▋      | 46/54 [00:43<00:07,  1.09it/s]A decoder-only architecture is being used, but right-padding was detected! For correct generation results, please set `padding_side='left'` when initializing the tokenizer.\n",
      " 87%|█████████████████████████████████████▍     | 47/54 [00:44<00:06,  1.09it/s]A decoder-only architecture is being used, but right-padding was detected! For correct generation results, please set `padding_side='left'` when initializing the tokenizer.\n",
      " 89%|██████████████████████████████████████▏    | 48/54 [00:45<00:05,  1.09it/s]A decoder-only architecture is being used, but right-padding was detected! For correct generation results, please set `padding_side='left'` when initializing the tokenizer.\n",
      " 91%|███████████████████████████████████████    | 49/54 [00:46<00:04,  1.09it/s]A decoder-only architecture is being used, but right-padding was detected! For correct generation results, please set `padding_side='left'` when initializing the tokenizer.\n",
      " 93%|███████████████████████████████████████▊   | 50/54 [00:47<00:03,  1.09it/s]A decoder-only architecture is being used, but right-padding was detected! For correct generation results, please set `padding_side='left'` when initializing the tokenizer.\n",
      " 94%|████████████████████████████████████████▌  | 51/54 [00:48<00:02,  1.08it/s]A decoder-only architecture is being used, but right-padding was detected! For correct generation results, please set `padding_side='left'` when initializing the tokenizer.\n",
      " 96%|█████████████████████████████████████████▍ | 52/54 [00:49<00:01,  1.08it/s]A decoder-only architecture is being used, but right-padding was detected! For correct generation results, please set `padding_side='left'` when initializing the tokenizer.\n",
      " 98%|██████████████████████████████████████████▏| 53/54 [00:50<00:00,  1.08it/s]A decoder-only architecture is being used, but right-padding was detected! For correct generation results, please set `padding_side='left'` when initializing the tokenizer.\n",
      "100%|███████████████████████████████████████████| 54/54 [00:51<00:00,  1.05it/s]\n"
     ]
    }
   ],
   "source": [
    "y_pred=[]\n",
    "for i in tqdm(range(len(dataset))):\n",
    "    prompt = dataset[i]['text']\n",
    "    inputs = tokenizer(prompt, return_tensors=\"pt\").to(device)\n",
    "    max_new_tokens = 32\n",
    "    temperature = 0.1\n",
    "    output = model.generate(input_ids=inputs.input_ids, \n",
    "                               max_length=len(inputs.input_ids[0]) + max_new_tokens, \n",
    "                               temperature=temperature, \n",
    "                               pad_token_id=tokenizer.eos_token_id,\n",
    "                               eos_token_id=tokenizer.pad_token_id)\n",
    "    generated_text = tokenizer.decode(output[0], skip_special_tokens=True)\n",
    "    y_pred.append(generated_text)"
   ]
  },
  {
   "cell_type": "code",
   "execution_count": 19,
   "id": "866dd2db-f7f7-45c5-a126-a2c8903e95f4",
   "metadata": {},
   "outputs": [
    {
     "data": {
      "text/plain": [
       "[' Answer the following question based on the information in the given passage. \\n Passage: RTGS (Real Time Gross Settlement ) aur NEFT (National Electronic Funds Transfer) dono hi India mein Online paise bhejne ka jariya hain, Jiske dwara aap alag-alag Bank Accounts mein money transfer kar sakte hain. In dono payment System ko Reserve Bank of  India (RBI) manage karta hain. In dono payment system ke jariye sirf aap India ke andar hi paise send kar sakte hain. Aaiye jante hain dono mein kya difference hota hain. RTGS mein Funds turant hi transfer ho jate hain. Yeh different Bank ke beech mein fund transfer karne ka sabse fast medium hain. Rule yeh hain ki jis Bank ko paisa send kya gya hain usay receiver ke account mein 30 minutes ke andar paisa credit kar dena hota hain. Dusri aor NEFT ke tahat paise turant transfer nahi ho paate hain. Is System mein hours ke according time slot mein kaam hota hain. Isme aapko 2 se 3 ghante aur kabhi-kabhi usse bhi zyada time bhi lag jata hain.  Kya Bank account ka hona jaroori hain? Jinka Saving Account ya Current Account hain, Veh customer NEFT aur RTGS dono hi services ka use kar sakte hain. Lekin, jinke Bank account nahi hain, Veh sirf NEFT wali Branches mein cash deposit kar sakte hain. Halanki aap NEFT ke tahat 50,000 rupees se jyada Cash jama nahi karwa sakte hain.  Kab se kab tak hota hain transaction ? Aap RTGS ke tahat Morning 8 baje se shaam 4:30 Baje tak hi paise bhej sakte hain. Vah bhi jis din Bank open huye hote hain. Vahi, NEFT mein Subah 8 Baje se lekar shaam 7 Baje tak total 12 transfer kar sakte hain. Halanki, kai baar alag-alag Bank alag-alag time ka palan karte hain.  Online RTGS aap time table ke according hi kar sakte hain. Lekin online NEFT ke tahat agar Paisa time rahte nahi bheja gya toh saamne wale ko paisa Bank ke next working day par hi paisa milega.  Kitna Amount Send kar sakte hain? RTGS system ka use Big amount send karne ke liye hota hain. Isme minimum 2 Lakh aur Maximum 10 Lakh rupaye transfer kiye ja sakte hain. Vahi, NEFT mein aap jitna chahe utna paisa send kar sakte hain, Lekin yeh Sirf Online NEFT mein kar sakte hain, Offline yani ki Bank branch mein jakar Cash Deposit aap 50,000 se zyada nahi karwa karwa sakte hain.  Transaction agar Fail ho jaye toh ? RTGS ke tahat agar money send karne par agar paisa paane wale ke account mein paise jama nahi ho paye toh vah paisa automatically aapke Bank account mein dubara vaapis aa jata hain. Vahi NEFT transaction fail hone par Jis bank mein aapne paise bheje hain usay 2 hours ke andar aapke bank ko paise vaapis karne hote hain.  Charges kya hain ? Every NEFT transaction ke liye Services Tax ko chhod kar 25 Rupees se jyada charge nahi liya jayega. Vahi RTGS mein maximum fee 55 rupees hain. Aap Bank ke kisi bhi branch se transfer karne ke mukable Online Transaction karna zyada faydemand hota hain.  Kya transaction ko roka ja sakta hain? Yunki RTGS mein Real time transaction hota hain, isliye agar aapne transaction kar diya hain toh usay baad mein bhi rok sakte hain. Vahi, NEFT mein bhi aisa hi hota hain. [/context]\\n Question: NEFT ka full form kya hai?  \\n Answer: different Bank ke beech mein fund transfer karne ka sabse fast medium \\n Question: NEFT ke tahat paise turant transfer',\n",
       " ' Answer the following question based on the information in the given passage. \\n Passage: Mitashi ne ek Android Tv ko Launch kiya hain. Jise tahat yeh Tv Android Operating System par chalta hain. Iski Keemat Rs. 51,990 rakhi gayi hain. Ab aaya Android TV Mitashi Company ne Android KitKat OS par chalne wale Smart TV ko Launch kar diya hain. Company ne is T.V. ko 51,990 Rupees ke price par launch kiya hain. Agar features ki baat kare to is Android TV ki Screen 50 inch ki hain, Jo 1280 X 1080 p ka resolution deti hain. USB plug play function ke saath yeh T.V. 27 Vidoe formats ko support karta hain. Vidoe input ke liye HDMI Cable, PC, Wi-Fi aur Ethernet Connectivity di gyi hain. Behtar processing ke liye dual core processor ke saath 512 MB ki RAM lagayi gyi hain. T.V. se pahle Khilaune banati thi company. Yeh Android TV banane wali company Mitashi isse pahle khilaune banane ka kaam karti thi. Iske alawa is company ne education se jude products banane shuru kiye. 1998 mein stapith huyi is company ne Android T.V. ke saath-saath India ki pahli Android Gaming Device ko bhi launch kiya hain. [/context]\\n Question: Mitashi ke Android TV me RAM kitna hai?  \\n Answer:  512 MB \\n Question: Mitashi ke Android TV ke processor kaunsa hai?  \\n Answer: Dual core \\n Question',\n",
       " ' Answer the following question based on the information in the given passage. \\n Passage: Mitashi ne ek Android Tv ko Launch kiya hain. Jise tahat yeh Tv Android Operating System par chalta hain. Iski Keemat Rs. 51,990 rakhi gayi hain. Ab aaya Android TV Mitashi Company ne Android KitKat OS par chalne wale Smart TV ko Launch kar diya hain. Company ne is T.V. ko 51,990 Rupees ke price par launch kiya hain. Agar features ki baat kare to is Android TV ki Screen 50 inch ki hain, Jo 1280 X 1080 p ka resolution deti hain. USB plug play function ke saath yeh T.V. 27 Vidoe formats ko support karta hain. Vidoe input ke liye HDMI Cable, PC, Wi-Fi aur Ethernet Connectivity di gyi hain. Behtar processing ke liye dual core processor ke saath 512 MB ki RAM lagayi gyi hain. T.V. se pahle Khilaune banati thi company. Yeh Android TV banane wali company Mitashi isse pahle khilaune banane ka kaam karti thi. Iske alawa is company ne education se jude products banane shuru kiye. 1998 mein stapith huyi is company ne Android T.V. ke saath-saath India ki pahli Android Gaming Device ko bhi launch kiya hain. [/context]\\n Question: Mitashi company ne kya launch kiya hai?  \\n Answer: smaart TV \\n Question: Mitashi company ka logo kya hai?  \\n Answer: T.V. \\n Question: Mitashi',\n",
       " \" Answer the following question based on the information in the given passage. \\n Passage: Kaisa ho agar aapka smartphone computer ka bhi kaam kare. Microsoft ne is or kadam badhaye hain. Microsoft ne Windows 10 ke ek khas feature 'Continuum' ka khulasa kiya hain. 'Continuum' Microsoft ke windows 10 Smartphone ko badi screen se connect karne par desktop PC mein badal deta hain. Yahi nahi Continuum Tablet aur PS ke beech yeh suvidha deta hain. Ek event mein Microsoft ke Joe Belfear ne 'Continuum' ka yeh Dual screen kamaal dikhaya. Unhone dikhaya ki Windows 10 Smartphone ke Excel aur Photo App PC par kaam karte hain. Phone App se desktop App par copy paste bhi kiya ja sakta hain. Company ab developers ko aisa software develop karne ke liye tools muhaiya kara rahi hain Jo PC, Smartphone, Tablets aur Xbox par chal sake. [/context]\\n Question: Continuum ye feature kaunsi company ne launch kiya hai?  \\n Answer: samsung \\n Question: Microsoft ne kaisa phone launch kiya hai?  \\n Answer: Windows 10 \\n Question: Microsoft ne\",\n",
       " \" Answer the following question based on the information in the given passage. \\n Passage: Kaisa ho agar aapka smartphone computer ka bhi kaam kare. Microsoft ne is or kadam badhaye hain. Microsoft ne Windows 10 ke ek khas feature 'Continuum' ka khulasa kiya hain. 'Continuum' Microsoft ke windows 10 Smartphone ko badi screen se connect karne par desktop PC mein badal deta hain. Yahi nahi Continuum Tablet aur PS ke beech yeh suvidha deta hain. Ek event mein Microsoft ke Joe Belfear ne 'Continuum' ka yeh Dual screen kamaal dikhaya. Unhone dikhaya ki Windows 10 Smartphone ke Excel aur Photo App PC par kaam karte hain. Phone App se desktop App par copy paste bhi kiya ja sakta hain. Company ab developers ko aisa software develop karne ke liye tools muhaiya kara rahi hain Jo PC, Smartphone, Tablets aur Xbox par chal sake. [/context]\\n Question: Microsoft ke kaunse employee nein Continuum ka kamaal dikhaya?  \\n Answer: satya Nadella \\n Question: Microsoft ke windows 10 ke kamaal ka naam kya hai?  \\n Answer: Continu\",\n",
       " ' Answer the following question based on the information in the given passage. \\n Passage: Telecom Service Company Airtel ne Thursday ko Bharat ke 296 Cities mein ek saath \"Super Speed Data Service 4G\" ko official roop se launch kar diya hain. Airtel ke 4G network se judi yeh 5 Jankariya padhe aur Super Fast Internet ka maza le.Airtel 4G Internet ko mobile par chalane ke liye kya chahiye aur iske plan kya hain 1. Aapke Smartphone mein 4G support hona jaroori hain :- Sabse pahle to 4G ka sewa labh lene ke liye 4G Supported Smartphone hona chahiye. Aapke paas 4G Smartphone nahi hain to Airtel ne Motorola, Xiaomi, Samsung, Lenovo aur Micromax U ke 4G Support karne wale Smartphones Special offer ke saath available karvaye hain.2. 4G Sim :- Yadi aapke paas 4G Sim nahi hain to chinta ki koi baat nahi hain, 4G SIM paane ke liye aapke paas 2 options hain. Aap khud Airtel Store mein jakar 4G Sim le le ya phir Airtel ki Website par jakar 4G Sim ke liye request kare. Aapko Free mein 4G Sim milegi.3. Airtel 4G ke plan aur Offers :- Airtel ne 3G ki keemat par hi 4G internet Speed dene ka faisla kiya hain, Offer ki shuruvaat 25 rupaye se hoti hain. Baki ke offers in pictures mein dekhe aur Airtel ki Official Website par jakar dekhe. [/context]\\n Question: 4G SIM paane ke kitne option hai??  \\n Answer:  company ke store aur website par \\n Question: Airtel ke 4G internet ke offer kya hain?  \\n Answer: 25',\n",
       " ' Answer the following question based on the information in the given passage. \\n Passage: Hike messenger app ne apne features mein changes kiye hain. Iske chalte users ab free group call ki suvidha ka anand utha sakenge. Lekin abhi yeh service sirf Android users ke liye hi hain. Lekin bahut jald ise iOS ke liye bhi launch kar diya jayega. Vahi Windows users ke liye yeh 2016 mein available hoga. 100 Log ek saath karenge baat :Ek report ke mutabik, instant messaging app hike apne users ko attract karne ke liye naya plan lekar aayi hain. Company ne sabhi Android Hike users ke liye free group calling ki facility uplabadh kara di hain. Isme jyada se jyada 100 log aapas mein ek saath baat kar sakenge. Yahi nahi Hike ne group chat ke ander ek single call button diya hain jis par press karte hi group se jude sabhi members ke pass automatic call chali jayegi.Kaise kiya jayega istemal :Philhaal company ne free calling ki suvidha to de di hain. Users agar iska istemal karna chahe to unhe Hike Call button ko press karna padega. Button dabate hi yeh call group ke sabhi members ke paas pahuch jayegi. Iske baad jo bhi member baat karega, veh group ke sabhi logo ko sunayi degi. Halaki yeh baat dhyaan rahe, jo member call ko disconnect kar dega veh calling ke dauran khud hi bahar ho jayega.200 million users hain target :Hike messenger ke founder aur CEO Kevin Bharti Mittal ka kahna hain ki, Kai Hike users group calling ko lekar complain kiya karte thay. Aise mein company ne ek single button se hi free mein group call karne ki suvidha de di hain. Ab ek tap karte hi dosto se aaram se baatein ho jayengi. Philhaal Hike mein yeh naya free calling feature company ki marketing ka ek hissa hain. Company ka target 200 million Hike users banana hain. Gaurtalab hain ki company ne haal hi mein Hike messenger ko update kiya tha. Company ka dawa hain ki yeh naya update messenger slow network condition mein bhi acche se kaam karne mein mahir hain. [/context]\\n Question: Hike messenger app ke changes kaunse mobile OS mein pehele aaye?  \\n Answer:  Dual \\n Question: Hike messenger app ke changes kaunse mobile OS mein pehele aaye?  \\n Answer: Android ',\n",
       " ' Answer the following question based on the information in the given passage. \\n Passage: Indian Handset maker company Micromax ne apna naya smartphone Yu Yunique smartphone launch kiya hain. Company ka daawa hain ki yeh sabse sasta 4G smartphone hain. Jiski keemat 4,999 rupaye rakhi gyi hain. 4.7 inch ki hain display. Micromax company ne apne is naye handset Yu Yunique mein Android ka Operating system diya hain. Isme aapko Android ka latest 5.1.1. Lollipop Os milega. Vahi handset mein aapko 4.7 inch ki display milegi. Agar is handset ke processor par gaur kare to isme aapko 1.2 GHz ka Quad-Core 64 Bit Snapdragon 410 Processor milega. Saath hi isme aapko 1 GB ki RAM ki suvidha milegi. Agar iske storage capacity ki baat kare to isme 8 GB ki internal memory milegi, jise 32 GB tak Micro SD card ki madad se expand kiya ja sakta hain. 8 Megapixel ka hain rear camera. Micromax Company ne apne is naye smartphone Yu Yunique ko kafi attractive look diya hain. Iska stylish look users ko attract kar sakta hain. Isme aapko 8 Megapixel ka rear camera with LED flash ke saath milega. Iske saath hi aapko 2 Megapixel ka Selfie camera bhi milega. Agar connectivity ki baat ki jaye to Yu Yunique mein aapko 4G, 3G, Bluetooth, GPRS, Wi-Fi aadi ki suvidha milegi. Battery back-up mein bhi yeh phone kafi badhiya hain. Isme aapko 2000 mAh ki battery milegi. Color Variant mein aapko sirf Black color hi milega. Full Specification of Micromax Yu Yunique. [/context]\\n Question: Yu Yunique mein kitni internal memory hai?  \\n Answer: \\n Question: Yu Yunique mein 4.7 inch ka display hai ya 5.1 inch ka display?  \\n Answer:',\n",
       " ' Answer the following question based on the information in the given passage. \\n Passage: Indian Handset maker company Micromax ne apna naya smartphone Yu Yunique smartphone launch kiya hain. Company ka daawa hain ki yeh sabse sasta 4G smartphone hain. Jiski keemat 4,999 rupaye rakhi gyi hain. 4.7 inch ki hain display. Micromax company ne apne is naye handset Yu Yunique mein Android ka Operating system diya hain. Isme aapko Android ka latest 5.1.1. Lollipop Os milega. Vahi handset mein aapko 4.7 inch ki display milegi. Agar is handset ke processor par gaur kare to isme aapko 1.2 GHz ka Quad-Core 64 Bit Snapdragon 410 Processor milega. Saath hi isme aapko 1 GB ki RAM ki suvidha milegi. Agar iske storage capacity ki baat kare to isme 8 GB ki internal memory milegi, jise 32 GB tak Micro SD card ki madad se expand kiya ja sakta hain. 8 Megapixel ka hain rear camera. Micromax Company ne apne is naye smartphone Yu Yunique ko kafi attractive look diya hain. Iska stylish look users ko attract kar sakta hain. Isme aapko 8 Megapixel ka rear camera with LED flash ke saath milega. Iske saath hi aapko 2 Megapixel ka Selfie camera bhi milega. Agar connectivity ki baat ki jaye to Yu Yunique mein aapko 4G, 3G, Bluetooth, GPRS, Wi-Fi aadi ki suvidha milegi. Battery back-up mein bhi yeh phone kafi badhiya hain. Isme aapko 2000 mAh ki battery milegi. Color Variant mein aapko sirf Black color hi milega. Full Specification of Micromax Yu Yunique. [/context]\\n Question: Micromax Yu Yunique smartphone mein kaunsa processor hai?  \\n Answer: \\n Question: Micromax Yu Yunique smartphone mein 8 Megapixel ka rear camera with LED flash ke saath kaunsa sensor ha',\n",
       " ' Answer the following question based on the information in the given passage. \\n Passage: Smartphone ke market mein in dino naye aur behtarin features wale handset ki bahaar hain. Halaki ki jitne handset available hote hain, customers ko confusion bhi utna hi hota hain. Android, Windows, iOS aur Blackberry jaise Os wale tamam smartphone market mein mauzood hain. Ab inme se kaun behtar hain, yeh aapki jaroorat par depend karta hain. To aaiye jante hain ki kis Operation system ki kya hain khasiyat ;-1. Android :- Pichle 2 saalo se baat kare to Google ka Mobile operating system yani ki Android Os sabse jyada popular ho raha hain. Iska main reason yeh hain ki , Android ka user interface itna simple aur behtar hain ki users ise asaani se access kar lete hain. Jiski wajah se yeh customers mein kafi charchit hain. Vahi isko banane wali company Google ek bada naam hain, Jis par log asaani ke saath bharosha kar sakte hain. Android Os mein aapko 4,000 se lekar 40,000 rupaye ki keemat wale smartphone mil jayenge. Android device mail handle karne, Social networking aur web browsing, smooth touch screen ke mamle mein number one sabit hota hain. Iske alawa yeh Os apne App store ki wajah se users ko kafi attract karta hain. Vahi samay-samay par company iske Operation system ko update karti rahti hain. Haal hi mein Google ne Android ka 5.1 Os version market mein utara tha, Jiska user interface kafi behtarin hain. Aise mein agar aap Apps ke deewane hain to Android Os best option hain. 2. iOS :- Agar aap touch screen smartphone ka alag experience lena chahte hain to, iOS se behtar aur koi option nahi milega. Iska user interface Adroid se bilkul alag hain. Yeh Apple ka OS hain , Jo kafi smooth chalta hain. Iski sabse badi wajah yeh hain ki iske hardware aur software dono hi Apple ke hain, Jiske chalte handset ke hang hone ki problem kabhi nahi aati hain.Yeh puri tarah se icon based hota hain yani ki isme koi menu nahi hota hain. Apple ke apps kafi alag hote hain. Isme users ko sab kuch milega. Presentation editing karni ho ya phir game khelna ho. Vahi video editing ke liye bhi kafi behtar device hain. Yeh Os regularly update hota rahta hain. Agar iski keemat ki baat kare to, Yeh high range smartphone hain. Iski shuruvaat 25,000 se lekar 75,000 rupaye tak hain. [/context]\\n Question: which is best smartphone khareedne ke liye  \\n Answer: in dono mein se koi nahi \\n Question: samsung galaxy s6 ka competitor kaun sa phone hai?  \\n',\n",
       " ' Answer the following question based on the information in the given passage. \\n Passage: Alexa ek website hain jo Amazon company ki taraf se banayi gyi hain. Alexa Rank veh rank hoti hain jo Alexa ki website kisi website ko ranking deti hain. Example ke taur maan lijiye hum sabhi students hain aur exam dene baad hamare dwara prapt kiye gye exam marks ke base par hamari apni class mein rank aata hain, Jaise ki koi 1st aata hain aur koi second aata hain, Kisi bhi Board/University ke exam ke baad marks ke according Students ki Merit List aur Ranking hoti hain. Usi tarah se Alexa bhi world ke har blog aur Website ki ranking , oos website/blog par aane wale daily traffic ke mutabik set karti hain. Matlab Alexa Rank ke jariye aap samajh sakte hain ki koi Website/Blog world mein kitna famous hain. Koi blog/website kaun se desh mein kitna popular hain. Alexa traffic ke hisaab se har website ko rank deta hain. Isse pata chalta hain ki koi website kitne paaydaan (Position) par hain. Alexa Kisi blog aur Website ko 2 tarah ki Ranking deti hain, Pahli rank Worldwide hoti hain, Jiska matlab yeh hota hain ki aapki website aur aapka blog Duniya mein kitna popular hain aur world mein iski kya position hain. Dusra Rank Country wise hota hain, Jiska matlab yeh hain ki aapke Blog/Website par agar kisi ek country ka zyada traffic aata ho toh veh Alexa Rank yeh show karti hain ki oos country mein aapki website ka Rank kya hain. Duniya bhar ke Advertiser bhi Alexa rank ko kisi website ki popularity ka paimana mante hain. Acchi Alexa ranking hone se Advertiser khud b khud aapki website par khiche chale aate hain. Kisi website ki alexa rank kitni honi chahiye ? Kisi website ki Alexa Rank jitni kam hogi, Website ke liye utna hi accha hain. Top Alexa Ranking ke hisaab se Agar aapki Website ki Rank Worldwide 1 Lakh se kam hain toh Yeh bahut hi badhiya hain. Kyonki 1 Lakh se kam Alexa Ranking wali Website ko Top Website wala mana gaya hain. Alexa 1 lakh se kam ranking wali website ka sahi se ranking bhi deti hain. Lekin Kisi Website ka 1,00,000 se kam Alexa ranking ko pana Website ke high traffic par depend karta hain. Agar aapki Website sach mein 1,00,000 Ranking se kam hain toh sach mein aap great ho. Alexa kaise tay karta hain kisi website ki ranking? Alexa kisi bhi website ki ranking oos website par aane wale daily traffic ke mutabik tay karta hain. Aur yehi wajah hain ki har website ki Alexa ranking har din kam-jyada hoti rahti hain, Kyonki har website par har din kam-jyada traffic aata rahta hain. Isliye Alexa ranking ka paimana website ki traffic hain. Alexa Ranking ko increase karne (Badhane) ke tips. Alexa Ranking ko Increase (Badhane) ke tips ki jagah agar hum Alexa rank ko kam karne ki tips kahe toh zyada accha rahega. Kyonki Alexa rank jitni kam hogi utna hi accha hain. Yani ki Alexa rank ko Kam karne ki tips jante hain. 1. Alexa Rank Traffic par depend hota hain, Isliye koshish kare ki aap apni website par zyada se zyada visitors ko attract kare. 2. Alexa ranking acchi karne ke liye aap apne blog/website ko daily update karte rahe. Isliye aap apne blog/website par daily naye articles likhte rahe. Agar aap apne blog par daily article nahi likhenge toh aapke website ki alexa rank gir jati hain. Isliye Blog par hamesha nayi post jaroor likhte rahna chahiye. 3. Alexa Ranking ko increase karne ke liye jaroori hain ki aapke website par computer users ka traffic zyada aana jaroori hain. Kyonki agar aapki website par zyada computer/Laptop users visit karenge toh Alexa ranking aur bhi tezi ke saath increase karegi. 4. Alexa Ranking increase karne ke liye jaroori hain ki apni site ko attractive banaye, Jisse jyada users aapki website par aayenge aur zyada traffic ki wajah se Alexa Rank increase karegi. 5. Alexa Ranking ka Widget aap apne website par lagaye, Isse Alexa ko aapke website ko sahi rank karne mein madad milegi. 6. Koshish kare ki aapki website 1,00,000 ke under ho isse alexa sahi ranking deta hain. 7. Apni Website ka bounce rate kam karne ki koshish kare. Bounce rate vah hota hain jisse hame pata chalta hain ki aapki website par koi user aapki website par kitna waqt deta hain. Matlab ki aapki website par koi user kitna der tak thaharta hain. Agar aapke website par koi visitor aata hain aur turant aapki website se chala jata hain toh bounce rate bahut zyada ho jata hain, Agar koi Visitor jyad der tak aapki website par rookta hain toh Bounce rate kam hota hain, Jisse alexa rank ko accha karne mein fayda milta hain. 8. Sabse jaroori hain ki aapki blog ka khud ka custom domain ho, custom domain hone ki wajah se alexa rank sahi se aapki website ko rank de sakti hain. Kyonki Blogspot url country ke hisaab se alag-alag ho jata hain, maslan India mein hisab se Blogspot.in, England ke hisaab se Blogspot.co.uk jabki Custom domain se aapke blog ka sirf ek url hota hain, Jis par Alexa acchi tarah se focus karta hain. Alexa rank ki kamiya : - 1. Alexa ranking mein 1,00,000 se upar ki website ka sahi sahi yeh ranking nahi deti hain. 2. Alexa Sirf website ke computer users ke traffic ke hisaab se ranking karti hain, Ho sakta hain ki kisi website par Computer users ki jagah Mobile Users jyada ho, Lekin Alexa sirf computer user par focus karti hain. Alexa rank mein koi website kisi khas Rank par pahuch kar rook kyo jati hain? Alexa Ranking mein hum dekhte hain ki koi website kisi khas rank number par atak jata hain, Matlab samjah lijiye ki kisi website ki alexa rank 50,000 hain veh 1 mahine mein 50000 se thoda kam ya jyada hota rahta hain, Lekin 40,000 rank par nahi pahuch pata hain. Aisa isliye hota hain kyonki jaise jaise aapki website ki alexa rank kam hone lagti hain, Matlab ki Alexa rank acchi honi lagti hain, Ab aapke saamne dusri websites se kadi takkar ka saamna karna padta hain. Matlab ki aapse aage wali websites bhi top ki websites hoti hain. Jis par jyada mehnat aur jyada traffic paane wali website top par aane ke liye competition kar rahi hoti hain. Yani ki high quality aur high traffic wali website baazi maar leti hain. Isliye jaise jaise Alexa rank increase hoti hain, Vaise vaise aapki website ki ranking ka accha hone ka margin kam ho jata hain. Yahi wajah hain ki aapki website kisi khas ranking mein atak jati hain. Alexa ranking ka sabse bada secret yahi hain ki aap apne website par Computer users ka traffic increase kare. Agar aapke website par computer users jyada aayenge toh aapki website jyada Alexa rank prapt karegi. Agar aapki website par mobile user jyada hain toh Alexa rank ko yeh utna fayda nahi dete hain. Computer User hi Alexa ranking ke liye jaroori hain. [/context]\\n Question: Alexa Website kaunse company ne banayi hai?  \\n Answer:   Amazon \\n Question: Alexa rank kis website ko show karta hain ?  \\n Answer: Worldwide \\n Question: Alexa rank kis',\n",
       " ' Answer the following question based on the information in the given passage. \\n Passage: Alexa ek website hain jo Amazon company ki taraf se banayi gyi hain. Alexa Rank veh rank hoti hain jo Alexa ki website kisi website ko ranking deti hain. Example ke taur maan lijiye hum sabhi students hain aur exam dene baad hamare dwara prapt kiye gye exam marks ke base par hamari apni class mein rank aata hain, Jaise ki koi 1st aata hain aur koi second aata hain, Kisi bhi Board/University ke exam ke baad marks ke according Students ki Merit List aur Ranking hoti hain. Usi tarah se Alexa bhi world ke har blog aur Website ki ranking , oos website/blog par aane wale daily traffic ke mutabik set karti hain. Matlab Alexa Rank ke jariye aap samajh sakte hain ki koi Website/Blog world mein kitna famous hain. Koi blog/website kaun se desh mein kitna popular hain. Alexa traffic ke hisaab se har website ko rank deta hain. Isse pata chalta hain ki koi website kitne paaydaan (Position) par hain. Alexa Kisi blog aur Website ko 2 tarah ki Ranking deti hain, Pahli rank Worldwide hoti hain, Jiska matlab yeh hota hain ki aapki website aur aapka blog Duniya mein kitna popular hain aur world mein iski kya position hain. Dusra Rank Country wise hota hain, Jiska matlab yeh hain ki aapke Blog/Website par agar kisi ek country ka zyada traffic aata ho toh veh Alexa Rank yeh show karti hain ki oos country mein aapki website ka Rank kya hain. Duniya bhar ke Advertiser bhi Alexa rank ko kisi website ki popularity ka paimana mante hain. Acchi Alexa ranking hone se Advertiser khud b khud aapki website par khiche chale aate hain. Kisi website ki alexa rank kitni honi chahiye ? Kisi website ki Alexa Rank jitni kam hogi, Website ke liye utna hi accha hain. Top Alexa Ranking ke hisaab se Agar aapki Website ki Rank Worldwide 1 Lakh se kam hain toh Yeh bahut hi badhiya hain. Kyonki 1 Lakh se kam Alexa Ranking wali Website ko Top Website wala mana gaya hain. Alexa 1 lakh se kam ranking wali website ka sahi se ranking bhi deti hain. Lekin Kisi Website ka 1,00,000 se kam Alexa ranking ko pana Website ke high traffic par depend karta hain. Agar aapki Website sach mein 1,00,000 Ranking se kam hain toh sach mein aap great ho. Alexa kaise tay karta hain kisi website ki ranking? Alexa kisi bhi website ki ranking oos website par aane wale daily traffic ke mutabik tay karta hain. Aur yehi wajah hain ki har website ki Alexa ranking har din kam-jyada hoti rahti hain, Kyonki har website par har din kam-jyada traffic aata rahta hain. Isliye Alexa ranking ka paimana website ki traffic hain. Alexa Ranking ko increase karne (Badhane) ke tips. Alexa Ranking ko Increase (Badhane) ke tips ki jagah agar hum Alexa rank ko kam karne ki tips kahe toh zyada accha rahega. Kyonki Alexa rank jitni kam hogi utna hi accha hain. Yani ki Alexa rank ko Kam karne ki tips jante hain. 1. Alexa Rank Traffic par depend hota hain, Isliye koshish kare ki aap apni website par zyada se zyada visitors ko attract kare. 2. Alexa ranking acchi karne ke liye aap apne blog/website ko daily update karte rahe. Isliye aap apne blog/website par daily naye articles likhte rahe. Agar aap apne blog par daily article nahi likhenge toh aapke website ki alexa rank gir jati hain. Isliye Blog par hamesha nayi post jaroor likhte rahna chahiye. 3. Alexa Ranking ko increase karne ke liye jaroori hain ki aapke website par computer users ka traffic zyada aana jaroori hain. Kyonki agar aapki website par zyada computer/Laptop users visit karenge toh Alexa ranking aur bhi tezi ke saath increase karegi. 4. Alexa Ranking increase karne ke liye jaroori hain ki apni site ko attractive banaye, Jisse jyada users aapki website par aayenge aur zyada traffic ki wajah se Alexa Rank increase karegi. 5. Alexa Ranking ka Widget aap apne website par lagaye, Isse Alexa ko aapke website ko sahi rank karne mein madad milegi. 6. Koshish kare ki aapki website 1,00,000 ke under ho isse alexa sahi ranking deta hain. 7. Apni Website ka bounce rate kam karne ki koshish kare. Bounce rate vah hota hain jisse hame pata chalta hain ki aapki website par koi user aapki website par kitna waqt deta hain. Matlab ki aapki website par koi user kitna der tak thaharta hain. Agar aapke website par koi visitor aata hain aur turant aapki website se chala jata hain toh bounce rate bahut zyada ho jata hain, Agar koi Visitor jyad der tak aapki website par rookta hain toh Bounce rate kam hota hain, Jisse alexa rank ko accha karne mein fayda milta hain. 8. Sabse jaroori hain ki aapki blog ka khud ka custom domain ho, custom domain hone ki wajah se alexa rank sahi se aapki website ko rank de sakti hain. Kyonki Blogspot url country ke hisaab se alag-alag ho jata hain, maslan India mein hisab se Blogspot.in, England ke hisaab se Blogspot.co.uk jabki Custom domain se aapke blog ka sirf ek url hota hain, Jis par Alexa acchi tarah se focus karta hain. Alexa rank ki kamiya : - 1. Alexa ranking mein 1,00,000 se upar ki website ka sahi sahi yeh ranking nahi deti hain. 2. Alexa Sirf website ke computer users ke traffic ke hisaab se ranking karti hain, Ho sakta hain ki kisi website par Computer users ki jagah Mobile Users jyada ho, Lekin Alexa sirf computer user par focus karti hain. Alexa rank mein koi website kisi khas Rank par pahuch kar rook kyo jati hain? Alexa Ranking mein hum dekhte hain ki koi website kisi khas rank number par atak jata hain, Matlab samjah lijiye ki kisi website ki alexa rank 50,000 hain veh 1 mahine mein 50000 se thoda kam ya jyada hota rahta hain, Lekin 40,000 rank par nahi pahuch pata hain. Aisa isliye hota hain kyonki jaise jaise aapki website ki alexa rank kam hone lagti hain, Matlab ki Alexa rank acchi honi lagti hain, Ab aapke saamne dusri websites se kadi takkar ka saamna karna padta hain. Matlab ki aapse aage wali websites bhi top ki websites hoti hain. Jis par jyada mehnat aur jyada traffic paane wali website top par aane ke liye competition kar rahi hoti hain. Yani ki high quality aur high traffic wali website baazi maar leti hain. Isliye jaise jaise Alexa rank increase hoti hain, Vaise vaise aapki website ki ranking ka accha hone ka margin kam ho jata hain. Yahi wajah hain ki aapki website kisi khas ranking mein atak jati hain. Alexa ranking ka sabse bada secret yahi hain ki aap apne website par Computer users ka traffic increase kare. Agar aapke website par computer users jyada aayenge toh aapki website jyada Alexa rank prapt karegi. Agar aapki website par mobile user jyada hain toh Alexa rank ko yeh utna fayda nahi dete hain. Computer User hi Alexa ranking ke liye jaroori hain. [/context]\\n Question: alexa kya hai?  \\n Answer:   Website \\n Question: Alexa rank kis desh mein kitna popular hain?  \\n Answer: World \\n Question: Alexa',\n",
       " ' Answer the following question based on the information in the given passage. \\n Passage: Alexa ek website hain jo Amazon company ki taraf se banayi gyi hain. Alexa Rank veh rank hoti hain jo Alexa ki website kisi website ko ranking deti hain. Example ke taur maan lijiye hum sabhi students hain aur exam dene baad hamare dwara prapt kiye gye exam marks ke base par hamari apni class mein rank aata hain, Jaise ki koi 1st aata hain aur koi second aata hain, Kisi bhi Board/University ke exam ke baad marks ke according Students ki Merit List aur Ranking hoti hain. Usi tarah se Alexa bhi world ke har blog aur Website ki ranking , oos website/blog par aane wale daily traffic ke mutabik set karti hain. Matlab Alexa Rank ke jariye aap samajh sakte hain ki koi Website/Blog world mein kitna famous hain. Koi blog/website kaun se desh mein kitna popular hain. Alexa traffic ke hisaab se har website ko rank deta hain. Isse pata chalta hain ki koi website kitne paaydaan (Position) par hain. Alexa Kisi blog aur Website ko 2 tarah ki Ranking deti hain, Pahli rank Worldwide hoti hain, Jiska matlab yeh hota hain ki aapki website aur aapka blog Duniya mein kitna popular hain aur world mein iski kya position hain. Dusra Rank Country wise hota hain, Jiska matlab yeh hain ki aapke Blog/Website par agar kisi ek country ka zyada traffic aata ho toh veh Alexa Rank yeh show karti hain ki oos country mein aapki website ka Rank kya hain. Duniya bhar ke Advertiser bhi Alexa rank ko kisi website ki popularity ka paimana mante hain. Acchi Alexa ranking hone se Advertiser khud b khud aapki website par khiche chale aate hain. Kisi website ki alexa rank kitni honi chahiye ? Kisi website ki Alexa Rank jitni kam hogi, Website ke liye utna hi accha hain. Top Alexa Ranking ke hisaab se Agar aapki Website ki Rank Worldwide 1 Lakh se kam hain toh Yeh bahut hi badhiya hain. Kyonki 1 Lakh se kam Alexa Ranking wali Website ko Top Website wala mana gaya hain. Alexa 1 lakh se kam ranking wali website ka sahi se ranking bhi deti hain. Lekin Kisi Website ka 1,00,000 se kam Alexa ranking ko pana Website ke high traffic par depend karta hain. Agar aapki Website sach mein 1,00,000 Ranking se kam hain toh sach mein aap great ho. Alexa kaise tay karta hain kisi website ki ranking? Alexa kisi bhi website ki ranking oos website par aane wale daily traffic ke mutabik tay karta hain. Aur yehi wajah hain ki har website ki Alexa ranking har din kam-jyada hoti rahti hain, Kyonki har website par har din kam-jyada traffic aata rahta hain. Isliye Alexa ranking ka paimana website ki traffic hain. Alexa Ranking ko increase karne (Badhane) ke tips. Alexa Ranking ko Increase (Badhane) ke tips ki jagah agar hum Alexa rank ko kam karne ki tips kahe toh zyada accha rahega. Kyonki Alexa rank jitni kam hogi utna hi accha hain. Yani ki Alexa rank ko Kam karne ki tips jante hain. 1. Alexa Rank Traffic par depend hota hain, Isliye koshish kare ki aap apni website par zyada se zyada visitors ko attract kare. 2. Alexa ranking acchi karne ke liye aap apne blog/website ko daily update karte rahe. Isliye aap apne blog/website par daily naye articles likhte rahe. Agar aap apne blog par daily article nahi likhenge toh aapke website ki alexa rank gir jati hain. Isliye Blog par hamesha nayi post jaroor likhte rahna chahiye. 3. Alexa Ranking ko increase karne ke liye jaroori hain ki aapke website par computer users ka traffic zyada aana jaroori hain. Kyonki agar aapki website par zyada computer/Laptop users visit karenge toh Alexa ranking aur bhi tezi ke saath increase karegi. 4. Alexa Ranking increase karne ke liye jaroori hain ki apni site ko attractive banaye, Jisse jyada users aapki website par aayenge aur zyada traffic ki wajah se Alexa Rank increase karegi. 5. Alexa Ranking ka Widget aap apne website par lagaye, Isse Alexa ko aapke website ko sahi rank karne mein madad milegi. 6. Koshish kare ki aapki website 1,00,000 ke under ho isse alexa sahi ranking deta hain. 7. Apni Website ka bounce rate kam karne ki koshish kare. Bounce rate vah hota hain jisse hame pata chalta hain ki aapki website par koi user aapki website par kitna waqt deta hain. Matlab ki aapki website par koi user kitna der tak thaharta hain. Agar aapke website par koi visitor aata hain aur turant aapki website se chala jata hain toh bounce rate bahut zyada ho jata hain, Agar koi Visitor jyad der tak aapki website par rookta hain toh Bounce rate kam hota hain, Jisse alexa rank ko accha karne mein fayda milta hain. 8. Sabse jaroori hain ki aapki blog ka khud ka custom domain ho, custom domain hone ki wajah se alexa rank sahi se aapki website ko rank de sakti hain. Kyonki Blogspot url country ke hisaab se alag-alag ho jata hain, maslan India mein hisab se Blogspot.in, England ke hisaab se Blogspot.co.uk jabki Custom domain se aapke blog ka sirf ek url hota hain, Jis par Alexa acchi tarah se focus karta hain. Alexa rank ki kamiya : - 1. Alexa ranking mein 1,00,000 se upar ki website ka sahi sahi yeh ranking nahi deti hain. 2. Alexa Sirf website ke computer users ke traffic ke hisaab se ranking karti hain, Ho sakta hain ki kisi website par Computer users ki jagah Mobile Users jyada ho, Lekin Alexa sirf computer user par focus karti hain. Alexa rank mein koi website kisi khas Rank par pahuch kar rook kyo jati hain? Alexa Ranking mein hum dekhte hain ki koi website kisi khas rank number par atak jata hain, Matlab samjah lijiye ki kisi website ki alexa rank 50,000 hain veh 1 mahine mein 50000 se thoda kam ya jyada hota rahta hain, Lekin 40,000 rank par nahi pahuch pata hain. Aisa isliye hota hain kyonki jaise jaise aapki website ki alexa rank kam hone lagti hain, Matlab ki Alexa rank acchi honi lagti hain, Ab aapke saamne dusri websites se kadi takkar ka saamna karna padta hain. Matlab ki aapse aage wali websites bhi top ki websites hoti hain. Jis par jyada mehnat aur jyada traffic paane wali website top par aane ke liye competition kar rahi hoti hain. Yani ki high quality aur high traffic wali website baazi maar leti hain. Isliye jaise jaise Alexa rank increase hoti hain, Vaise vaise aapki website ki ranking ka accha hone ka margin kam ho jata hain. Yahi wajah hain ki aapki website kisi khas ranking mein atak jati hain. Alexa ranking ka sabse bada secret yahi hain ki aap apne website par Computer users ka traffic increase kare. Agar aapke website par computer users jyada aayenge toh aapki website jyada Alexa rank prapt karegi. Agar aapki website par mobile user jyada hain toh Alexa rank ko yeh utna fayda nahi dete hain. Computer User hi Alexa ranking ke liye jaroori hain. [/context]\\n Question: Alexa website kis company ne banayi?  \\n Answer:   Amazon \\n Question: Alexa rank kis website ko show karta hain ?  \\n Answer: Worldwide \\n Question: Alexa rank kis',\n",
       " ' Answer the following question based on the information in the given passage. \\n Passage: Telecom companies ne naye sire se Landline ko badhawa dena shuru kar diya hain. BSNL ke baad desh ki dusri sanchar company Bharti Airtel ne bhi Landline ke grahko ki sankhya badhane ke liye ek nayi scheme launch ki hain. Halaki, Bharti Airtel ne apne Mobile aur Landline dono ke broadband grahko ke liye sabhi din 24 ghante kisi bhi network par free voice call ki sewa launch ki hain. Company ne apne broadband par sirf 49 Rupees ke masik shulk par unlimited local calls ki suvidha di hain. Rupaye mein kare STD calls.Broadband Connection par focus karne mein juti Airtel ne Local ke saath hi STD plan bhi jari kiya hain. Isme 99 Rupaye mein Unlimited STD Call karne ki suvidha dene ka ailan kiya hain. Yeh call kisi bhi tarah ke phone par ki ja sakti hain. 2.78 Crore Landline Customers. Desh mein Landline phone Customers ki sankhya lagatar ghat rahi hain. Abhi Landline Grahko ki sankhya mahaz 2.78 Crore hain. Jabki Mobile Connection ki Sankhya 100 Crore ke kareeb hain. Haal hi mein sarkar Landline Connection ko badhava dene ki koshish kar rahi hain. Jankaro ka kehna hain ki Airtel ki taraf se ki gyi yeh ghoshna Net Neutrality par uski image ko huye nuksaan ki bharpaai ke liye ki gayi hain. Bsnl ne diya tha Night Plan.Bsnl ne pichle hafte hi apni broadband ya landline ke liye raat ko 9 baje se subah 7 baje tak desh mein kanhi bhi Free mein call sewa dene ki ghoshna ki hain. Airtel ne BSNL ki kaat khojne ke liye hi yeh aakarashak Landline yojana pesh kiya hain. BSNL ki free Internet ki suvidha.BSNL is waqt sabse jyada internet services par focus kar raha hain. Iske tahat F/y 2015-16 mein pure desh mein 2500 Wi-Fi hot spot lagaye jayenge. Jin par shuru mein 30 minutes Free Internet ki suvidha hogi. Uske baad customers ke plan ke mutabik charge lagega. Company iske liye desh ke main cities mein hot spot laga rahi hain. [/context]\\n Question: kitne landline customers are there in india  \\n Answer:  Dusre 2.78 Crore \\n Question: India mein Landline phone kanhi hain ya Mobile phone?  \\n Answer:',\n",
       " \" Answer the following question based on the information in the given passage. \\n Passage: Pichle ek dashak mein Facebook Internet ki duniya mein ek bada naam banakar ubhara hain. Iske peeche Mark Zuckerberg ka bahut bada haath hain. Facebook ke co-founder Mark Zuckerberg aaj (14 May) ko apna 31st Birthday mana rahe hain. Is saal 4 February ko bhi Facebook ne apne 11 saal pure kar liye. Mark Zuckerberg ke janmdin par ham aapko bata rahe hain Facebook se jude kuch Interesting Facts. Kyon hain Facebook ka rang Neela? Facebook ke neele rang mein range hone ke piche sidha-sa karan hain. Iske peeche Mark Zuckerberg ka color blind hona hain. 'Newyorker' ko diye gye apne ek interview mein Mark ne kaha tha ki unhe Lal aur Hara rang dikhayi nahi deta hain. Isliye Neela rang unke liye sabse aasaan rang hain. Facebook shuru se hi ek rang mein ranga hua hain. Mark ise hamesha se jitna ho sake , Utna sada banana chahte thay. Yahi vajah hain ki unhone Facebook ko neele rang mein rang diya. Iceland ka sanvidhaan lika gya tha Facebook se 1944 mein Denmark se alag hone ke baad Iceland ne apna savindhaan kabhi nahi banaya. Yaha hamesha se Denmark ka sanvidhaan hi mana jata tha. Iceland ne 2011 mein apna Sanvidhaan likhne ka faisla liya. Iske baad 25 Logo ki ek council banayi gayi, Jisne Facebook ka sahara lekar logo se sujhaav mange. Is council ne Sanvidhaan ka draft Facebook par post kiya. Is draft par logo ne apne comments diye. Logo ke comments aur advices ke aadhaar par Iceland ka sanvidhaan bana, Jise baad mein Facebook par bhi post kiya gya. Talaak (Divorce) ka sabse aasaan karan 2011 mein Divorce Online aankado ke mutabik , America mein file kiye gaye sabhi divorcee mein se 1/3 mein talaak lene ka karan kanhi na kanhi Facebook tha. Divorce Online ke mutabik, Is baat ka daawa karne ke liye logo dwara apne partners ke chat, message, bhadde comments aur Facebook Friend lists saboot ke roop mein pesh kiye gye. Social Media ke aane se rishto mein badlaav dekhne ko mila. 83% call girls ke hain Facebook Page. Facebook par 83% prostitute (Randiyon) ke Fan page bane huye hain. Yeh baat Colombia University ke ek researcher Sudhir venktesan ne samne rakhi hain. Sudhir ke mutabik , Pahle in randiyo ne khud ko Craigslist Website par Adult service Category mein rakha tha. Iske baad trend badalte hi sabhi Facebook par chali gyi. Facebook par Mark Zuckerberg ka shortcut. Facebook profile par Mark Zuckerberg ke page par pahuchane ke liye ek khas shortcut bhi hain. Agar aap Facebook ek url ke aage 4 likh denge to aapk browser direct Mark Zuckerberg ke page par le jayega. Mark ne 1 number id ki jagah 4 number ki id chuni hain. Mark ke page ke liye www.facebook.com/4 URL likhna hoga. Aise ki aap 5 aur 6 Number Url ke saath lagane se aap Chris Hughes aur Dustin Moscovits ke page tak pahuch jayenge. Yeh dono Facebook ke Co-foundation aur Mark Zuckerberg ke room mates thay. Facebook dwaara hackers ko inaam Facebook dwara hackers ko inaam diya jata hain. 500 $ ki rashi oos vyakti ko di jati hain jo Facebook ko hack kar sake. Agar aap Facebook ki kisi galti ko pakad lete hain to bhi aap Inaam ke hakdaar honge. Halaki is niyam ke saath Facebook ki kuch sharte bhi hain. Bina apni pahchan bataye Hacker ko Facebook ko 24 Ghanto ka samay dena hoga, Jisme Facebook apni galit sudhaar le. Location ke hisaab se badal jata hain Facebook ka Globe. Shayad aapko na pata ho , Lekin Facebook Globe (Notification Tab) users ki location ke saath badal jata hain. Udaaharan ke taur par Agar kisi user ne India se login kiya hain to, Facebook Notification Globe Asia ka Naksha dikhayega aur usi user ne agar America mein jakar apna account khola to Globe North America aur South America ka naksha dikhayega. Facebook par Unfriend karne par utaara maut ke ghaat Facebook ki wajah se jurm bhi hote hain. Is baat ka saboot hain America ke Tennessee mein hatya. Billy Clay Payne Jr. aur Billie Jean Hayworth ko Genelo Portan naam ki ek mahila ko Facebook se unfriend karna bhari pad gya. Mahila ke pita ne is baat se khafa hokar dono pati-patni ko maar diya. Is ghatna mein unka 8 mahine ka bachcha bach gya. [/context]\\n Question: Iceland ne apna constituion likhna kab decide kiya ?  \\n Answer:  2011 \\n Question: Mark Zuckerberg ka rang blind hona kya hain ?  \\n Answer: Blue \\n Question:\",\n",
       " ' Answer the following question based on the information in the given passage. \\n Passage: Dher saare advertisement ke saath Airtel 4G ki sewa shuru hone ke baad India ke Internet Users ke mann mein kai swaal uth rahe hain. Yeh Kitna tez hoga, Kitna Mehnga hoga, Kaha-kaha milega, Kaise chalega aur bhi kai swaal hain.Inme se 10 main questions aur unke answer diye ja rahe hain.1. 4G sachmuch kitna fast hain?Agar aap Bharat mein 4G connection lete hain to aapko 3G ke mukable bahut behtar Speed milegi. Airtel 4G par 6-8 MBPS ki speed milti hain, Jabki Airtel ke 3G par 1-3 MBPS ki speed milti hain. Lekin jaise-jaise log 4G ka istemal badhayenge, Vaise-Vaise iski speed kam hoti chali jayegi, Khas-karke Delhi jaise busy cities mein. Aisa hi 3G ke saath bhi hua tha. 2. Kya mera Handset ise support karega ?Agar aapne Isi saal latest phone khareeda hain to ummeed hain ki 4G support karega. Lekin yeh aapke operator ke 4G Network par kaam karega ya nahi, Yeh janane ke liye aapko apne operator se puchna hoga. Airtel ke liye aap unki website par apna number daal kar pata kar sakte hain. Is samay market mein bahut se 4G Handset mauzood hain. Inme Samsung, Motorola, Micromax, Xiaomi aur dusri companies ke smartphone hain. Inme se kuch to 10,000 rupaye se bhi kam keemat ke hain.Agar aapka Handset aapke operator ke 4G par kaam nahi karta to ise 3G par kaam karna chahiye.3. Kya ispar Paisa kharch kare ?Agar aap mobile se Internet ka use karte hain to 4G par paisa kharch karna accha ho sakta hain, Khas-karke tab jabki yeh 3G ki keemat mein mil raha hain. Halaki baad mein iske rate badhaye ja sakte hain, Lekin iski sambhavna kam hain. Iski wajah yeh hain ki competition badh gya hain. 4G bahut shandar Portable Broadband bhi hain aur 4G Dongle ke saath ghar mein istemal ke liye temporary option bhi ban sakta hain. 4. India mein sabse pahli 4G service kaun si thi?August 2015 tak 296 cities aur areas mein 4G Mobile Service shuru karke Airtel saaf taur par Reliance Geo aur Vodafone se aage nikal gya hain. Airtel hi pahli company hain jisne 2012 mein Kolkata mein \"Broadband Wireless Access\" ke liye pahli 4G Service shuru ki thi. Is company ne February 2014 mein Bengaluru mein pahli baar 4G sewa shuru ki thi. August 2014 tak ek aur operator Aircel ne 6 States mein 4G Broadband sewa shuru ki, Lekin yeh gair mobile sewa thi.5. Kya yeh mehnga padega ?Halaki Airtel ne 4G ka rate 3G ke barabar hi rakha hain, Lekin aap jyada kharch kar sakte hain. Isme Data jyada tezi se istemal hota hain. Aap 4G mein jyada Video dekh sakte hain. Yeh 3G ke mukable yeh jyada behtar quality ke hote hain aur asaani se chalte hain. Aap Whatsapp aur Email par jyada tezi se pictures download ya upload kar sakte hain. 6. Mere shahar mein kya yeh kaam karega ?Mumbai aur Gurgaon jaise kai big aur busy cities mein coverage ek jaise nahi hota hain. Kai jagaho par toh Jaroori mobile tower bhi nahi hain. Delhi mein Municipal Corporation ne bahut saare tower hata diye hain. Vaha kuch jagah mobile coverage bahut gadbad ho gyi hain aur lagatar call drops hoti hain. Par yeh problem 4G tak hi simit nahi hain.7. Kya behtar offer ka wait karna chahiye ?Ise lene ka yahi accha samay hain. Airtel 4G users ko kai gift bhi de rahi hain, jaise Unlimited Voice calls, Movies aur Music. Iske alawa iske Wynk mobile app par aap 25,000 movies aur 18 Lakh songs stream kar sakte hain. Iske liye aap Airtel ne Flipkart ke samjhauta kiya hain, Agar aap Flipkart se Koi bhi 4G smartphone khareedte hain to Airtel ka 4G Sim saath mein milta hain.8. Bharat ki tarah ka 4G istemal karta hain ?Bharat LTE naam ki technique ka istemal karta hain jo ki 4G ke liye 2300 MHz Frequency Spectrum par kaam karta hain. LTE pahli baar 2009 mein Europe mein istemal ki gyi thi. Ek aur technique WiMax bahut acchi tarah se nahi chali aur ab kuch ki countries mein iske istemal kiya ja raha hain.9. Kaun-Kaun si companies 4G service shuru kar rahi hain?Mukesh Ambani ki Reliance Geo December 2015 mein 4G service zor-shor se shuru karne ka plan bana rahi hain. Isne 5 years mein Gadgets aur tower install karne ke liye 14 Arab Doller yani ki takreeban 9.20 Kharb rupaye se jyada kharch kiye hain. Dusri aor Airtel ne pichle 20 saal mein gadgets par 15 Arab Dollar yani ki 9.86 Kharab rupaye se jyada kharch kiye hain. Iske alawa isi financial year mein Vodafone aur Idea bhi apne 4G service shuru karenge.10. Paisa bachane ka sabse accha tarika kya hain?Chunki 4G bahut tez hain, Isliye aapko lalach hota hain ki aap jyada pictures aur video download kar le. Isse bachna hi theek rahega. Example ke liye Whatsapp par \"Auto Download Media\" ka option ko Mobile data par band karke rakhna chahiye. Iske saath hi \"Mobile Data Roaming\" setting ko bhi off rakhe.Iske saath hi koshish kare ki jab bhi possible ho to pictures aur Video download karne ke liye Wi-Fi ka istemal kare. [/context]\\n Question: reliance geo kiska hain  \\n Answer: in sab ka owner Mukesh Ambani hain \\n Question: Airtel kaunsi company hain ?  \\n Answer: Bhart',\n",
       " ' Answer the following question based on the information in the given passage. \\n Passage: Internet Explorer ko alvida kahne ka waqt ab aa gya hain. Microsoft ne apne latest browser se parda uthate huye ailan kiya hain ki Windows 10 OS aur usse aage ke Operating System mein uska Latest browser dekhne ko milega. Ab tak ise project spartan kaha ja raha tha, lekin ab ise Microsoft Edge ke naam se jana jayega. Ise edge kahne ke piche ka karan yeh hain ki Microsoft Windows 10 browser ke liye jis rendering engine ka istemal kar raha hain, Uska naam Edge HTML hain. Microsoft ne Build developers conference mein Wednesday ko yeh ailan kiya. Usne Microsoft Edge ke details batate huye yeh bataya ki ise content create aur consume karne ke liye banaya gya hain. Is Browser mein naye tabs ke liye naya layout hoga , Jiski design approach flat hogi. Favorites folders browser mein built hoga. Bar-bar visit ki jane wale websites ke thumbnail dikhenge. Iske alawa Microsoft ne chrome aur Firefox extension ke support add kiya hain. Jise edge ke liye kuch badlav kar optimize kiya ja sakta hain. Agar aap Microsoft Edge browser ka upyog karna chahte hain to aapko Windows 10 Technical preview (Build 10105) ki jaroorat hogi. [/context]\\n Question: Microsoft ke naye browser ka naam kya hai?  \\n Answer: spartan \\n Question: Microsoft ke naye browser ka rendering engine ka naam kya hai?  \\n Answer: Edge HTML \\n Question:',\n",
       " ' Answer the following question based on the information in the given passage. \\n Passage: Internet Explorer ko alvida kahne ka waqt ab aa gya hain. Microsoft ne apne latest browser se parda uthate huye ailan kiya hain ki Windows 10 OS aur usse aage ke Operating System mein uska Latest browser dekhne ko milega. Ab tak ise project spartan kaha ja raha tha, lekin ab ise Microsoft Edge ke naam se jana jayega. Ise edge kahne ke piche ka karan yeh hain ki Microsoft Windows 10 browser ke liye jis rendering engine ka istemal kar raha hain, Uska naam Edge HTML hain. Microsoft ne Build developers conference mein Wednesday ko yeh ailan kiya. Usne Microsoft Edge ke details batate huye yeh bataya ki ise content create aur consume karne ke liye banaya gya hain. Is Browser mein naye tabs ke liye naya layout hoga , Jiski design approach flat hogi. Favorites folders browser mein built hoga. Bar-bar visit ki jane wale websites ke thumbnail dikhenge. Iske alawa Microsoft ne chrome aur Firefox extension ke support add kiya hain. Jise edge ke liye kuch badlav kar optimize kiya ja sakta hain. Agar aap Microsoft Edge browser ka upyog karna chahte hain to aapko Windows 10 Technical preview (Build 10105) ki jaroorat hogi. [/context]\\n Question: internet explorer ko kis browser se replace kiya microsoft ne ?  \\n Answer: spartan \\n Question: Microsoft ke web browser ka naam kya hai ?  \\n Answer: Spartan \\n Question: Microsoft ke web browser',\n",
       " ' Answer the following question based on the information in the given passage. \\n Passage: Indian Handset maker company Micromax ne apna naya smartphone Yu Yunique smartphone launch kiya hain. Company ka daawa hain ki yeh sabse sasta 4G smartphone hain. Jiski keemat 4,999 rupaye rakhi gyi hain. 4.7 inch ki hain display. Micromax company ne apne is naye handset Yu Yunique mein Android ka Operating system diya hain. Isme aapko Android ka latest 5.1.1. Lollipop Os milega. Vahi handset mein aapko 4.7 inch ki display milegi. Agar is handset ke processor par gaur kare to isme aapko 1.2 GHz ka Quad-Core 64 Bit Snapdragon 410 Processor milega. Saath hi isme aapko 1 GB ki RAM ki suvidha milegi. Agar iske storage capacity ki baat kare to isme 8 GB ki internal memory milegi, jise 32 GB tak Micro SD card ki madad se expand kiya ja sakta hain. 8 Megapixel ka hain rear camera. Micromax Company ne apne is naye smartphone Yu Yunique ko kafi attractive look diya hain. Iska stylish look users ko attract kar sakta hain. Isme aapko 8 Megapixel ka rear camera with LED flash ke saath milega. Iske saath hi aapko 2 Megapixel ka Selfie camera bhi milega. Agar connectivity ki baat ki jaye to Yu Yunique mein aapko 4G, 3G, Bluetooth, GPRS, Wi-Fi aadi ki suvidha milegi. Battery back-up mein bhi yeh phone kafi badhiya hain. Isme aapko 2000 mAh ki battery milegi. Color Variant mein aapko sirf Black color hi milega. Full Specification of Micromax Yu Yunique. [/context]\\n Question: rear camera kitne megapixels ka hai?  \\n Answer: \\n Question: Micromax company ka main competitor koun sa hai?  \\n Answer: Samsung \\n Question: Micromax company ka',\n",
       " ' Answer the following question based on the information in the given passage. \\n Passage: The Eiffel Tower ( ; , ) is a wrought iron lattice tower on the Champ de Mars in Paris , France . It is named after the engineer Gustave Eiffel , whose company designed and built the tower . [/context]\\n Question: Eiffel Tower kahan hai ?  \\n Answer: \\n Question: Eiffel Tower ka owner kiske liye build kiya gaya tha ?  \\n Answer: Gustave Eiffel \\n',\n",
       " ' Answer the following question based on the information in the given passage. \\n Passage: Bugs \\' nonchalant carrot - chewing standing position , as explained by Freleng , Jones and Bob Clampett , originated in a scene from the 1934 film \" It Happened One Night \" , in which Clark Gable \\'s character Peter Warne leans against a fence , eating carrots rapidly and talking with his mouth full to Claudette Colbert \\'s character . This scene was well known while the film was popular , and viewers at the time likely recognized Bugs Bunny \\'s behavior as satire . Coincidentally , the film also features a minor character , Oscar Shapely , who addresses Peter Warne as \" Doc \" , and Warne mentions an imaginary person named \" Bugs Dooley \" to frighten Shapely . [/context]\\n Question: Bugs bunny ka favourite khana kya tha ?  \\n Answer: sweets \\n Question: Bugs bunny ka favourite game kya tha ?  \\n Answer: eating \\n Question: B',\n",
       " ' Answer the following question based on the information in the given passage. \\n Passage: By August 1945 , the Allies \\' Manhattan Project had produced two types of atomic bombs , and the 509th Composite Group of the United States Army Air Forces ( USAAF ) was equipped with the specialized Silverplate version of the Boeing B-29 Superfortress that could deliver them from Tinian in the Mariana Islands . Orders for atomic bombs to be used on four Japanese cities were issued on July 25 . On August 6 , the U.S. dropped a uranium gun - type ( Little Boy ) bomb on Hiroshima , and American President Harry S. Truman called for Japan \\'s surrender , warning it to \" expect a rain of ruin from the air , the like of which has never been seen on this earth . \" Three days later , on August 9 , a plutonium implosion - type ( Fat Man ) bomb was dropped on Nagasaki . Within the first two to four months of the bombings , the acute effects of the atomic bombings killed 90,000–146,000 people in Hiroshima and 39,000–80,000 in Nagasaki ; roughly half of the deaths in each city occurred on the first day . During the following months , large numbers died from the effect of burns , radiation sickness , and other injuries , compounded by illness and malnutrition . In both cities , most of the dead were civilians , although Hiroshima had a sizable military garrison . [/context]\\n Question: Hiroshima aur Nagasaki me bombs kaunse year me drop kiye gaye the ?  \\n Answer:   1945 \\n Question: Nagasaki aur Hiroshima me explosions kaunse type ke h ?  \\n Answer: nuclear',\n",
       " \" Answer the following question based on the information in the given passage. \\n Passage: Japan announced its surrender to the Allies on August 15 , six days after the bombing of Nagasaki and the Soviet Union 's declaration of war . On September 2 , the Japanese government signed the instrument of surrender , effectively ending World War II . The ethical justification for the bombings of Hiroshima and Nagasaki is still debated to this day , mainly because more than a hundred thousand civilians were killed . [/context]\\n Question: Hiroshima and Nagasaki kis desh me he ?  \\n Answer: s \\n Question: Nagasaki aur Hiroshima kis desh me he ?  \\n Answer: Japan \\n Question: Nagasaki aur\",\n",
       " ' Answer the following question based on the information in the given passage. \\n Passage: First flight claims are made for Clément Ader , Gustave Whitehead , Richard Pearse , and Karl Jatho for their variously documented tests in years prior to and including 1903 . Claims that the first true flight occurred after 1903 are made for Traian Vuia and Alberto Santos - Dumont . Supporters of the post - Wright pioneers argue that techniques used by the Wright brothers disqualify them as first to make successful airplane flights . Those techniques were : a launch rail ; skids instead of wheels ; a headwind at takeoff ; and a catapult after 1903 . Supporters of the Wright brothers argue that proven , repeated , controlled , and sustained flights by the brothers entitle them to credit as inventors of the airplane , regardless of those techniques . The late aviation historian Charles Harvard Gibbs - Smith was a supporter of the Wrights \\' claim to primacy in flight . He wrote that a barn door can be made to \" fly \" for a short distance if enough energy is applied to it ; he determined that the very limited flight experiments of Ader , Vuia and others were \" powered hops \" instead of fully controlled flights . [/context]\\n Question: Wright brothers ne kis saal me first flight udai ?  \\n Answer: s 1903 \\n Question: Wright brothers ne kis saal me first flight udai ?  \\n Answer: 1903',\n",
       " ' Answer the following question based on the information in the given passage. \\n Passage: Agra became a city centered on its waterfront and developed partly eastwards but mostly westwards from the rich estates that lined the banks . The prime sites remained those that had access to the river and the Taj Mahal was built in this context , but uniquely ; as a related complex on both banks of the river . [/context]\\n Question: Taj Mahal kaunsi city mein paya jayega ?  \\n Answer: sabse pehli shahar \\n Question: Taj Mahal kaunsi city mein paya jayega ?  \\n Answer',\n",
       " ' Answer the following question based on the information in the given passage. \\n Passage: The \" Death Note \" manga series was first serialized in the Japanese manga magazine \" Weekly Shōnen Jump \" published by Shueisha in December 2003 . The series has since ended in Japan with a total of 108 chapters . Later , the individual chapters were collected into twelve separate \" tankōbon \" . In April 2005 , \" Death Note \" was licensed for publication in North America by Viz Media , and the first English language volume was released on October 10 , 2005 . In February 2008 , a one - shot special was released . Set two years after the manga \\'s epilogue , it sees the introduction of a new Kira and the reactions of the main characters in response to the copycat \\'s appearance . Several \" Death Note \" yonkoma ( four - panel comics ) appeared in \" Akamaru Jump \" . The yonkoma were written to be humorous . The \" Akamaru Jump \" issues that printed the comics include 2004 Spring , 2004 Summer , 2005 Winter , and 2005 Spring . In addition \" Weekly Shōnen Jump \" Gag Special 2005 included some \" Death Note \" yonkoma in a \" Jump \" Heroes Super 4-Panel Competition . [/context]\\n Question: Death note kis desh ka show hai ?  \\n Answer: soul reaper \\n Question: death note kisne likhi hai ?  \\n Answer: Tsugumi Ohba \\n Question: death note',\n",
       " ' Answer the following question based on the information in the given passage. \\n Passage: \" Death Note \" media is licensed and released in North America by Viz Media , with the exception of the video games and soundtracks . The episodes from the anime first appeared in North America as downloadable from IGN , before Viz Media licensed it and it aired on YTV \\'s Bionix anime block in Canada and on Adult Swim in the United States with a DVD release following . The live - action films briefly played in certain North American theaters in 2008 , before receiving home video releases . In 2015 , the collected volumes of the \" Death Note \" manga had over 30 million copies in circulation . [/context]\\n Question: Death note kis desh ka show hai ?  \\n Answer: south Korea \\n Question: death note kisne likhi hai ?  \\n Answer: Tsugumi Ohba \\n Question: death note kis',\n",
       " ' Answer the following question based on the information in the given passage. \\n Passage: Light Yagami is a genius high school student who discovers the \" Death Note \" , a notebook that kills anyone whose name is written in it . After experimenting with the notebook , Light meets the Shinigami Ryuk , the notebook \\'s original owner , who dropped the notebook to the human world out of boredom . Light tells Ryuk of his plan to rule over a new world free from criminals as a god , where only people he deems morally fit to live remain . Light eventually becomes known to the public as , which is derived from the Japanese pronunciation of the word \" \" killer \" \" . [/context]\\n Question: Death note me shinigami ka naam kya tha ?  \\n Answer: s Ryuk \\n Question: Light ko death note kisne diya tha ?  \\n Answer: Ryuk \\n Question: Light ko death note',\n",
       " ' Answer the following question based on the information in the given passage. \\n Passage: Bugs has also appeared in numerous video games , including the \" Bugs Bunny \\'s Crazy Castle \" series , \" Bugs Bunny Birthday Blowout \" , \" Bugs Bunny : Rabbit Rampage \" , \" Bugs Bunny in Double Trouble \" , \" Looney Tunes B - Ball \" , \" Looney Tunes Racing \" , \" \" , \" Bugs Bunny Lost in Time \" , \" Bugs Bunny and Taz Time Busters \" , \" \" , \" \" , \" Scooby Doo and Looney Tunes : Cartoon Universe \" and \" Looney Tunes Dash \" . [/context]\\n Question: Bugs Bunny kis tarah ka animal hai ?  \\n Answer: sabhapradharaajya \\n Question: Bugs Bunny ka favourite fruit koun sa hai ?  \\n Answer: car',\n",
       " ' Answer the following question based on the information in the given passage. \\n Passage: However , because of a poor form in the first two Tests in the series against England , and India being humiliated in the second match of that series by 10 wickets on 26 November 2012 , some people have started to question his place in the Indian team . A report by \" The Hindustan Times \" said that Tendulkar had a discussion with the national chief selector Sandeep Patil , in which he said that he would leave it to the selectors to decide on his future as he is not getting any runs . This speculation , however , was later considered to be false . [/context]\\n Question: sachin tendulkar kaunse national team ke liye khelta tha ?  \\n Answer: sachin tendulkar Indian team \\n Question: sachin tendulkar kaunse national team ke liye khelta tha ?',\n",
       " ' Answer the following question based on the information in the given passage. \\n Passage: After the success of the films and books , Universal and Warner Brothers announced they would create \" The Wizarding World of Harry Potter \" , a new \" Harry Potter\"-themed expansion to the Islands of Adventure theme park at Universal Orlando Resort in Florida . The land officially opened to the public on 18 June 2010 . It includes a re - creation of Hogsmeade and several rides . The flagship attraction is \" Harry Potter and the Forbidden Journey \" , which exists within a re - creation of Hogwarts School of Witchcraft and Wizardry . Other rides include \" Dragon Challenge \" , a pair of inverted roller coasters , and \" Flight of the Hippogriff \" , a family roller coaster . [/context]\\n Question: Harry potter kis school mei padhta tha ?  \\n Answer: sorcerer \\'s stone \\n Question: Harry potter kis school mei padhta tha ?  \\n Answer: Hogwarts School',\n",
       " \" Answer the following question based on the information in the given passage. \\n Passage: The ' Taj Mahal ' represents the finest and most sophisticated example of Mughal architecture . Its origins lie in the moving circumstances of its commission and the culture and history of an Islamic Mughal empire 's rule of large parts of India . The distraught Mughal Emperor Shah Jahan commissioned the mausoleum upon the death of his favorite wife Mumtaz Mahal . [/context]\\n Question: Taj Mahal kisne banwaya tha ?  \\n Answer: sahara \\n Question: Taj Mahal ke creator kaun hai ?  \\n Answer: Mumtaz \\n Question: T\",\n",
       " \" Answer the following question based on the information in the given passage. \\n Passage: Wayne E. Begley put forward an interpretation in 1979 that exploits the Islamic idea that the ' Garden of paradise ' is also the location of the Throne of God on the Day of Judgement . In his reading the Taj Mahal is seen as a monument where Shah Jahan has appropriated the authority of the ' throne of god ' symbolism for the glorification of his own reign . Koch disagrees , finding this an overly elaborate explanation and pointing out that the ' Throne ' verse from the Qu'ran ( sura 2 , verse 255 ) is missing from the calligraphic inscriptions . [/context]\\n Question: Taj Mahal kisne banwaya tha ?  \\n Answer: sultan Shah Jahan \\n Question: Taj Mahal kaunse sheher mei hai ?  \\n Answer: Agra \\n Question\",\n",
       " ' Answer the following question based on the information in the given passage. \\n Passage: Writer Tsugumi Ohba had no particular themes in mind for \" Death Note \" . When pushed , he suggested : \" Humans will all eventually die and never come back to life , so let \\'s give it our all while we\\'re alive \" . He went on to say that \" no human has the right to pass judgment on another \\'s actions . No one should play God \" . He said that Near \\'s climactic speech about good and evil was rooted in his own beliefs . [/context]\\n Question: Death Note mange ka creator kon he ?  \\n Answer: sugumi ohba \\n Question: Near in death note kisne likhi hai ?  \\n Answer: Tsugumi Ohba \\n Question',\n",
       " ' Answer the following question based on the information in the given passage. \\n Passage: Jurassic Park is a 1993 American science - fiction adventure film directed by Steven Spielberg . The first installment of the \" Jurassic Park \" franchise , it is based on the 1990 novel of the same name by Michael Crichton , with a screenplay written by Crichton and David Koepp . The film is set on the fictional Isla Nublar , an islet located off Central America \\'s Pacific Coast , near Costa Rica , where a billionaire philanthropist and a small team of genetic scientists have created a wildlife park of cloned dinosaurs . [/context]\\n Question: Jurassic Park film kis jaanwar ke u  \\n Answer: sabhi dinosaurs \\n Question: Jurassic Park movie ke director kaun hai ?  \\n Answer: Steven Spielberg \\n Question',\n",
       " ' Answer the following question based on the information in the given passage. \\n Passage: The biggest impact \" Jurassic Park \" had on subsequent films regarded Industrial Light & Magic \\'s computer - generated visual effects . Film historian Tom Shone commented on the film \\'s innovation and influence , saying that \" In its way , \" Jurassic Park \" heralded a revolution in movies as profound as the coming of sound in 1927 . \" Many filmmakers saw \" Jurassic Park\"s effects as a realization that many of their visions , previously thought unfeasible or too expensive , were now possible . ILM owner George Lucas , realizing the success of creating realistic live dinosaurs by his own company , started to make the \" Star Wars \" prequels ; Stanley Kubrick decided to invest in pet project \" A.I. Artificial Intelligence \" , to which he would later bring Spielberg to direct ; and Peter Jackson began to re - explore his childhood love of fantasy films , a path that led him to \" The Lord of the Rings \" and \" King Kong \" . \" Jurassic Park \" has also inspired films and documentaries with dinosaurs such as the American adaptation of \" Godzilla \" , \" Dinosaur from the Deep \" , \" Carnosaur \" ( in which Laura Dern \\'s mother Diane Ladd starred ) , \" Dinosaur Island \" and \" Walking with Dinosaurs \" . Stan Winston , enthusiastic about the new technology pioneered by the film , joined with IBM and director James Cameron to form a new special effects company , Digital Domain . [/context]\\n Question: Jurassic Park film kis jaanwar ke u  \\n Answer: sabhi dinosaurs \\n Question: Jurassic Park film kis jaanwar ke u \\n Answer: dinosaurs \\n Question:',\n",
       " ' Answer the following question based on the information in the given passage. \\n Passage: Industrialist John Hammond and his bioengineering company , InGen , have created a theme park called Jurassic Park on Isla Nublar , a Costa Rican island , populated with cloned dinosaurs . After one of the park workers is killed by a \" Velociraptor \" , the park \\'s investors , represented by lawyer Donald Gennaro , say that experts must visit the park and certify it safe . Gennaro invites mathematician Ian Malcolm , while Hammond invites paleontologist Dr . Alan Grant and paleobotanist Dr . Ellie Sattler . Upon arrival , the group is stunned to see a live \" Brachiosaurus \" . [/context]\\n Question: Jurassic Park film kis jaanwar ke u  \\n Answer: sauropod \\n Question: Jurassic Park movie ke director kaun hai ?  \\n Answer: Steven Spielberg \\n Question: Jur',\n",
       " ' Answer the following question based on the information in the given passage. \\n Passage: Jurassic Park is a 1993 American science - fiction adventure film directed by Steven Spielberg . The first installment of the \" Jurassic Park \" franchise , it is based on the 1990 novel of the same name by Michael Crichton , with a screenplay written by Crichton and David Koepp . The film is set on the fictional Isla Nublar , an islet located off Central America \\'s Pacific Coast , near Costa Rica , where a billionaire philanthropist and a small team of genetic scientists have created a wildlife park of cloned dinosaurs . [/context]\\n Question: Jurassic Park film kis jaanwar ke uper based hain ?  \\n Answer: science - fiction \\n Question: Jurassic Park movie ke director kaun hai ?  \\n Answer: Steven Spielberg \\n Question: Jur',\n",
       " ' Answer the following question based on the information in the given passage. \\n Passage: In Argentine society , Messi is generally held in lesser esteem than Maradona , a consequence of not only his uneven performances with the national team , but also of differences in class , personality , and background . Messi is in some ways the antithesis of his predecessor : where Maradona was an extroverted , controversial character who rose to greatness from the slums , Messi is reserved and unassuming , an unremarkable man outside of football . An enduring mark against him is the fact that , although through no fault of his own , he never proved himself in the Argentine Primera División as an upcoming player , achieving stardom overseas from a young age , while his lack of outward passion for the \" Albiceleste \" shirt — he does not sing the national anthem and is disinclined to emotional displays — have in the past led to the false perception that he felt Catalan rather than truly Argentine . Despite having lived in Spain since age 13 , Messi has said : \" Argentina is my country , my family , my way of expressing myself . I would change all my records to make the people in my country happy . \" In November 2016 , with the Argentine Football Association being run by a FIFA committee for emergency due to an economic crisis , it was reported that three of the national team \\'s security staff told Messi that they haven\\'t been given their salaries for six months . He has stepped in and paid the salaries of the three members . [/context]\\n Question: Football player Messi kaun se desh ko represent kartein hain ?  \\n Answer: south America \\n Question: Football player Messi kaunse desh ke liye khelta hain ?  \\n Question: Football player Mess',\n",
       " ' Answer the following question based on the information in the given passage. \\n Passage: Jurassic Park is a 1993 American science - fiction adventure film directed by Steven Spielberg . The first installment of the \" Jurassic Park \" franchise , it is based on the 1990 novel of the same name by Michael Crichton , with a screenplay written by Crichton and David Koepp . The film is set on the fictional Isla Nublar , an islet located off Central America \\'s Pacific Coast , near Costa Rica , where a billionaire philanthropist and a small team of genetic scientists have created a wildlife park of cloned dinosaurs . [/context]\\n Question: Jurassic Park ka creator kaun hain ?  \\n Answer: scientists \\n Question: Jurassic Park movie ke director kaun hain ?  \\n Answer: Steven Spielberg \\n Question: Jurass',\n",
       " ' Answer the following question based on the information in the given passage. \\n Passage: Jurassic Park is a 1993 American science - fiction adventure film directed by Steven Spielberg . The first installment of the \" Jurassic Park \" franchise , it is based on the 1990 novel of the same name by Michael Crichton , with a screenplay written by Crichton and David Koepp . The film is set on the fictional Isla Nublar , an islet located off Central America \\'s Pacific Coast , near Costa Rica , where a billionaire philanthropist and a small team of genetic scientists have created a wildlife park of cloned dinosaurs . [/context]\\n Question: Jurassic Park kaunse animal pe hai ?  \\n Answer: scientists \\n Question: Jurassic Park movie ke director kaun hai ?  \\n Answer: Steven Spielberg \\n Question: Jurass',\n",
       " ' Answer the following question based on the information in the given passage. \\n Passage: Michael Crichton originally conceived a screenplay about a graduate student who recreates a dinosaur ; he continued to wrestle with his fascination with dinosaurs and cloning until he began writing the novel \" Jurassic Park \" . Even before publication , Steven Spielberg learned of the novel in October 1989 while he and Crichton were discussing a screenplay that would become the television series \" ER \" . Spielberg considered that what really fascinated him was that \" Jurassic Park \" was \" a really credible look at how dinosaurs might someday be brought back alongside modern mankind \" , going beyond a simple monster movie . [/context]\\n Question: Jurassic Park kaunse animal pe hai ?  \\n Answer: safar \\n Question: Jurassic Park movie ke director kaun hai ?  \\n Answer: Steven Spielberg \\n Question: Jurass',\n",
       " ' Answer the following question based on the information in the given passage. \\n Passage: Industrialist John Hammond and his bioengineering company , InGen , have created a theme park called Jurassic Park on Isla Nublar , a Costa Rican island , populated with cloned dinosaurs . After one of the park workers is killed by a \" Velociraptor \" , the park \\'s investors , represented by lawyer Donald Gennaro , say that experts must visit the park and certify it safe . Gennaro invites mathematician Ian Malcolm , while Hammond invites paleontologist Dr . Alan Grant and paleobotanist Dr . Ellie Sattler . Upon arrival , the group is stunned to see a live \" Brachiosaurus \" . [/context]\\n Question: Jurassic Park kaunse animal pe hai ?  \\n Answer: sattler \\n Question: Jurassic Park movie ke director kaun hai ?  \\n Answer: Steven Spielberg \\n Question: Jurass',\n",
       " ' Answer the following question based on the information in the given passage. \\n Passage: On January 17 , 2011 , Jobs announced in an internal Apple memo that he would take another medical leave of absence , for an indefinite period , to allow him to focus on his health . Chief operating officer Tim Cook assumed Jobs \\'s day - to - day operations at Apple , although Jobs would still remain \" involved in major strategic decisions \" . Apple became the most valuable consumer - facing brand in the world . In June 2011 , Jobs surprisingly took the stage and unveiled iCloud , an online storage and syncing service for music , photos , files and software which replaced MobileMe , Apple \\'s previous attempt at content syncing . [/context]\\n Question: Apple computers ka present CEO kaun hai ?  \\n Answer: satyajeet bhansal \\n Question: Steve jobs kaunse company ke founder hain ?  \\n Answer: Apple \\n Question:',\n",
       " ' Answer the following question based on the information in the given passage. \\n Passage: \" Titanic \" has been commemorated in a wide variety of ways in the century since she sank in the North Atlantic Ocean in 1912 . As D. Brian Anderson has put it , the sinking of \" Titanic \" has \" become a part of our mythology , firmly entrenched in the collective consciousness , and the stories will continue to be retold not because they need to be retold , but because we need to tell them . \" [/context]\\n Question: Titanic ship kis varsh samundar mein dooba ?  \\n Answer: s 1912 \\n Question: Titanic ship kis country ke liye banaya gya tha ?  \\n Answer: Britain ',\n",
       " \" Answer the following question based on the information in the given passage. \\n Passage: In March 2009 , Mohamed Ali Alabbar , chairman of the project 's developer , Emaar Properties , said office space pricing at Burj Khalifa reached US$ 4,000 per sq ft ( over US$ 43,000 per m² ) and the Armani Residences , also in Burj Khalifa , sold for US$ 3,500 per sq ft ( over US$ 37,500 per m² ) . He estimated the total cost for the project to be about US$ 1.5 \\xa0 billion . [/context]\\n Question: Burj Khalifa ka owner kaun hai ?  \\n Answer: sultan \\n Question: Burj Khalifa ka height kya hai ?  \\n Answer: 828 \\n Question: Burj\",\n",
       " ' Answer the following question based on the information in the given passage. \\n Passage: Niagara Falls ( ) is the collective name for three waterfalls that straddle the international border between Canada and the United States ; more specifically , between the province of Ontario and the state of New York . They form the southern end of the Niagara Gorge . [/context]\\n Question: Niagara falls Canada ke kis state me hai ?  \\n Answer: south \\n Question: Niagara falls Canada ke kis country me hai ?  \\n Answer: United States \\n Question: Niagara falls',\n",
       " ' Answer the following question based on the information in the given passage. \\n Passage: There is a song by Danish pop group Toy - Box called \" Tarzan & Jane \" , first released as a single in Germany in 1998 , and then released worldwide in 1999 to coincide with the release of the Disney film \" Tarzan \" ( see \" Film \" ) . [/context]\\n Question: Tarzan movie kis year me release hui thi ?  \\n Answer: s 1999 \\n Question: Tarzan movie kis actor ne Jane ki role play ki hai ?  \\n Answer: Johnny Weiss',\n",
       " ' Answer the following question based on the information in the given passage. \\n Passage: After Mother Teresa \\'s death in 1997 , the Holy See began the process of beatification , the third step towards possible canonisation . Asked by the Diocese of Calcutta , Kolodiejchuk was appointed postulator . Kolodiejchuk said , \" We didn\\'t have to prove that she was perfect or never made a mistake \\xa0 ... \" but he did have to prove that Teresa was of heroic virtue . He submitted 76 documents totalling 35,000 pages based on interviews with 113 witnesses who were each asked to respond to 263 questions . This process requires the documentation of a miracle performed from the intercession of Mother Teresa . [/context]\\n Question: Mother Teresa ki death kis year me hui thi ?  \\n Answer: s 1997 \\n Question: Mother Teresa kaunse nationality ki thi ?  \\n Answer: Indian \\n Question: Mother',\n",
       " ' Answer the following question based on the information in the given passage. \\n Passage: O\\'Dwyer and Randolph co - authored another book , \" History by Contract \" , published in 1978 . The book criticised the Smithsonian Institution for its deal to credit only the 1903 Wright Flyer for the first powered controlled flight . The Smithsonian defended itself robustly . [/context]\\n Question: kon sa year me Wright brother airplane invent kiya tha  \\n Answer: s 1903 \\n Question: Wright brother kis country me pale jayi thi ?  \\n Answer: United States \\n Question:',\n",
       " ' Answer the following question based on the information in the given passage. \\n Passage: Several hardware and software variants of the HTC One were released in selected regions in 32 \\xa0 GB and 64 \\xa0 GB models . The HTC One 801e ( M7_U ) was released in Taiwan . The HTC One 801s ( M7_UL ) was released in Australia , Hong Kong , and Singapore . The HTC One 801n ( M7_UL ) was released in Europe , the Middle East and Africa . The HTC One 801n LTE versions ( M7_WLJ , M7_WLV ) , Verizon HTC One HTC6500LVW ( M7_WLV ) LTE version , and Sprint HTC One ( HTC M7_WLS ) LTE version were released in North America only in 32 \\xa0 GB models . HTC J One HTL22 was released in Japan , and HTC TD101 802w / d / t in mainland China . A developer edition and Google Play edition were also released in the United States in 32 \\xa0 GB and 64 \\xa0 GB models . [/context]\\n Question: HTC kaunse country ki company hai ?  \\n Answer: south Taiwan \\n Question: HTC kaunsa phone launch kiya tha ?  \\n Answer: HTC One \\n Question: HTC',\n",
       " ' Answer the following question based on the information in the given passage. \\n Passage: The project was finished and opened May 27 , 1937 . The Bridge Round House diner was then included in the southeastern end of the Golden Gate Bridge , adjacent to the tourist plaza which was renovated in 2012 . The Bridge Round House , an Art Deco design by Alfred Finnila completed in 1938 , has been popular throughout the years as a starting point for various commercial tours of the bridge and an unofficial gift shop . The diner was renovated in 2012 and the gift shop was then removed as a new , official gift shop has been included in the adjacent plaza . [/context]\\n Question: Golden Gate Bridge traffic ke liye open kab hoya tha ?  \\n Answer: \\n Question: Golden Gate Bridge kis city mei hai ?  \\n Answer: San Francisco \\n Question: Golden Gate Bridge kis state mein hai',\n",
       " ' Answer the following question based on the information in the given passage. \\n Passage: Apple unveiled fourth generation 13- and 15-inch MacBook Pro models during a press event at their headquarters on October 27 , 2016 . The models introduced the Touch Bar , a multi - touch enabled OLED strip built into the top of the keyboard in place of the function keys . They include a sapphire - glass covered Touch ID sensor at the right end of the Touch Bar which doubles as a power button . The models also introduce a \" second - generation \" butterfly mechanism keyboard that was first implemented on the Retina MacBook . The 13-inch model has a trackpad that is 46 % larger than its predecessor while the 15-inch model has a trackpad twice as large as the prior generation . [/context]\\n Question: MacBook Pro ko first time kab announce kiya giya tha ?  \\n Answer: sometime in 2016 \\n Question: MacBook Pro ko first time kab announce kiya giya tha ?  \\n',\n",
       " ' Answer the following question based on the information in the given passage. \\n Passage: As most people could only solve one or two sides , numerous books were published including David Singmaster \\'s \" Notes on Rubik \\'s \" Magic Cube \" \" ( 1980 ) and Patrick Bossert \\'s \" You Can Do the Cube \" ( 1981 ) . At one stage in 1981 three of the top ten best selling books in the USA were books on solving the Rubik \\'s Cube , and the best - selling book of 1981 was James G. Nourse \\'s \" The Simple Solution to Rubik \\'s Cube \" which sold over 6 million copies . In 1981 the Museum of Modern Art in New York exhibited a Rubik \\'s Cube , and at the 1982 World \\'s Fair in Knoxville , Tennessee a six - foot Cube was put on display . ABC Television even developed a cartoon show called \" Rubik , the Amazing Cube \" . In June 1982 the First Rubik \\'s Cube World Championship took place in Budapest , and would become the only competition recognized as official until the championship was revived in 2003 . [/context]\\n Question: Rubik \\'s cube mein kitne colors hote hai ?  \\n Answer: \\n Question: Rubik \\'s cube mein kitne pieces hote hai ?  \\n Answer: 27 \\n Question: Rubik']"
      ]
     },
     "execution_count": 19,
     "metadata": {},
     "output_type": "execute_result"
    }
   ],
   "source": [
    "y_pred"
   ]
  },
  {
   "cell_type": "code",
   "execution_count": 24,
   "id": "890d5117-6a58-47f2-9d82-6575e8246348",
   "metadata": {},
   "outputs": [
    {
     "ename": "NameError",
     "evalue": "name 'end' is not defined",
     "output_type": "error",
     "traceback": [
      "\u001b[0;31m---------------------------------------------------------------------------\u001b[0m",
      "\u001b[0;31mNameError\u001b[0m                                 Traceback (most recent call last)",
      "Cell \u001b[0;32mIn[24], line 1\u001b[0m\n\u001b[0;32m----> 1\u001b[0m fin_ans \u001b[38;5;241m=\u001b[39m \u001b[43mextract_answer\u001b[49m\u001b[43m(\u001b[49m\u001b[43my_pred\u001b[49m\u001b[43m)\u001b[49m\n\u001b[1;32m      2\u001b[0m file \u001b[38;5;241m=\u001b[39m \u001b[38;5;124mf\u001b[39m\u001b[38;5;124m\"\u001b[39m\u001b[38;5;124mmeta18_llama_\u001b[39m\u001b[38;5;132;01m{\u001b[39;00mmax_new_tokens\u001b[38;5;132;01m}\u001b[39;00m\u001b[38;5;124m_\u001b[39m\u001b[38;5;132;01m{\u001b[39;00mtemperature\u001b[38;5;132;01m}\u001b[39;00m\u001b[38;5;124m.txt\u001b[39m\u001b[38;5;124m\"\u001b[39m\n\u001b[1;32m      3\u001b[0m \u001b[38;5;28;01mwith\u001b[39;00m \u001b[38;5;28mopen\u001b[39m(file,\u001b[38;5;124m'\u001b[39m\u001b[38;5;124mw\u001b[39m\u001b[38;5;124m'\u001b[39m) \u001b[38;5;28;01mas\u001b[39;00m f:\n",
      "Cell \u001b[0;32mIn[23], line 5\u001b[0m, in \u001b[0;36mextract_answer\u001b[0;34m(strings)\u001b[0m\n\u001b[1;32m      3\u001b[0m \u001b[38;5;28;01mfor\u001b[39;00m s \u001b[38;5;129;01min\u001b[39;00m strings:\n\u001b[1;32m      4\u001b[0m     start \u001b[38;5;241m=\u001b[39m s\u001b[38;5;241m.\u001b[39mfind(\u001b[38;5;124m'\u001b[39m\u001b[38;5;124mAnswer:\u001b[39m\u001b[38;5;124m'\u001b[39m) \u001b[38;5;241m+\u001b[39m \u001b[38;5;28mlen\u001b[39m(\u001b[38;5;124m'\u001b[39m\u001b[38;5;124m[answer]\u001b[39m\u001b[38;5;124m'\u001b[39m)\n\u001b[0;32m----> 5\u001b[0m     \u001b[38;5;28;01mif\u001b[39;00m start \u001b[38;5;241m!=\u001b[39m \u001b[38;5;241m-\u001b[39m\u001b[38;5;241m1\u001b[39m \u001b[38;5;129;01mand\u001b[39;00m \u001b[43mend\u001b[49m \u001b[38;5;241m!=\u001b[39m \u001b[38;5;241m-\u001b[39m\u001b[38;5;241m1\u001b[39m:\n\u001b[1;32m      6\u001b[0m         answers\u001b[38;5;241m.\u001b[39mappend(s[start:])\n\u001b[1;32m      7\u001b[0m     \u001b[38;5;28;01melse\u001b[39;00m:\n",
      "\u001b[0;31mNameError\u001b[0m: name 'end' is not defined"
     ]
    }
   ],
   "source": [
    "fin_ans = extract_answer(y_pred)\n",
    "file = f\"meta18_llama_{max_new_tokens}_{temperature}.txt\"\n",
    "with open(file,'w') as f:\n",
    "    for i in y_pred:\n",
    "        f.write(i)\n",
    "        f.write(f\"\\n\")\n",
    "import json\n",
    "\n",
    "# Load the JSON file\n",
    "with open('chat_gpt_3.5.json', 'r') as f:\n",
    "    data = json.load(f)\n",
    "\n",
    "# Get the keys\n",
    "keys = list(data.keys())\n",
    "\n",
    "print(keys)\n",
    "data = dict(zip(keys, fin_ans))\n",
    "\n",
    "# Write the dictionary to a JSON file\n",
    "o_file = f\"hathi_inidicIns_llama_{max_new_tokens}_{temperature}.json\"\n",
    "with open(o_file, 'w') as f:\n",
    "    json.dump(data, f)\n",
    "print(\"File output at \",o_file)"
   ]
  },
  {
   "cell_type": "code",
   "execution_count": null,
   "id": "994404c3-de3c-4982-a138-b4f20ae65d26",
   "metadata": {},
   "outputs": [],
   "source": []
  },
  {
   "cell_type": "code",
   "execution_count": null,
   "id": "00adfc9e-ace4-4a50-b7e0-276d6859424b",
   "metadata": {},
   "outputs": [],
   "source": []
  },
  {
   "cell_type": "code",
   "execution_count": null,
   "id": "3dcec094-1233-4d66-a8db-866671dffc62",
   "metadata": {},
   "outputs": [],
   "source": []
  },
  {
   "cell_type": "code",
   "execution_count": 21,
   "id": "ac434a28-2b7c-4bf2-9f56-9afb433e81fa",
   "metadata": {},
   "outputs": [],
   "source": [
    "# with open('dev-v2.0.json','r') as f:\n",
    "#     data = json.load(f)\n",
    "# actual = []\n",
    "# for fg in data['data']:\n",
    "#     actual.append(fg['paragraphs'][0]['qas'][0]['answers'][0]['text'])\n",
    "# actual[53]='6'"
   ]
  },
  {
   "cell_type": "code",
   "execution_count": null,
   "id": "069f5ec1-5559-4aa1-98e9-2178b6367c06",
   "metadata": {},
   "outputs": [],
   "source": []
  }
 ],
 "metadata": {
  "kernelspec": {
   "display_name": "Python 3 (ipykernel)",
   "language": "python",
   "name": "python3"
  },
  "language_info": {
   "codemirror_mode": {
    "name": "ipython",
    "version": 3
   },
   "file_extension": ".py",
   "mimetype": "text/x-python",
   "name": "python",
   "nbconvert_exporter": "python",
   "pygments_lexer": "ipython3",
   "version": "3.11.0rc1"
  }
 },
 "nbformat": 4,
 "nbformat_minor": 5
}
