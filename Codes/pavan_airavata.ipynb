{
 "cells": [
  {
   "cell_type": "code",
   "execution_count": 1,
   "id": "f9619da1-c33d-4fda-9113-e77ec93857cb",
   "metadata": {},
   "outputs": [],
   "source": [
    "# !pip install -q -U git+https://github.com/huggingface/trl@a3c5b7178ac4f65569975efadc97db2f3749c65e\n",
    "# !pip install -q -U git+https://github.com/huggingface/peft@4a1559582281fc3c9283892caea8ccef1d6f5a4f"
   ]
  },
  {
   "cell_type": "code",
   "execution_count": 2,
   "id": "bff66e03-2a82-4067-bd11-637986e2a85d",
   "metadata": {},
   "outputs": [],
   "source": [
    "import os\n",
    "os.environ[\"CUDA_VISIBLE_DEVICES\"] = \"0\"\n",
    "os.environ[\"TOKENIZERS_PARALLELISM\"] = \"false\""
   ]
  },
  {
   "cell_type": "markdown",
   "id": "041e464c-2bce-4040-ab0b-2784b07f94f5",
   "metadata": {},
   "source": [
    "#### import warnings\n",
    "warnings.filterwarnings(\"ignore\")"
   ]
  },
  {
   "cell_type": "code",
   "execution_count": 3,
   "id": "49ee0233-3f72-41d7-8028-0041fff779e3",
   "metadata": {},
   "outputs": [
    {
     "name": "stderr",
     "output_type": "stream",
     "text": [
      "2024-04-19 02:56:12.247379: I tensorflow/core/util/port.cc:113] oneDNN custom operations are on. You may see slightly different numerical results due to floating-point round-off errors from different computation orders. To turn them off, set the environment variable `TF_ENABLE_ONEDNN_OPTS=0`.\n",
      "2024-04-19 02:56:12.283779: E external/local_xla/xla/stream_executor/cuda/cuda_dnn.cc:9261] Unable to register cuDNN factory: Attempting to register factory for plugin cuDNN when one has already been registered\n",
      "2024-04-19 02:56:12.283808: E external/local_xla/xla/stream_executor/cuda/cuda_fft.cc:607] Unable to register cuFFT factory: Attempting to register factory for plugin cuFFT when one has already been registered\n",
      "2024-04-19 02:56:12.284724: E external/local_xla/xla/stream_executor/cuda/cuda_blas.cc:1515] Unable to register cuBLAS factory: Attempting to register factory for plugin cuBLAS when one has already been registered\n",
      "2024-04-19 02:56:12.290566: I tensorflow/core/platform/cpu_feature_guard.cc:182] This TensorFlow binary is optimized to use available CPU instructions in performance-critical operations.\n",
      "To enable the following instructions: AVX2 AVX512F AVX512_VNNI FMA, in other operations, rebuild TensorFlow with the appropriate compiler flags.\n"
     ]
    }
   ],
   "source": [
    "import numpy as np\n",
    "import pandas as pd\n",
    "import os\n",
    "from tqdm import tqdm\n",
    "import bitsandbytes as bnb\n",
    "import torch\n",
    "import torch.nn as nn\n",
    "import transformers\n",
    "from datasets import Dataset\n",
    "from peft import LoraConfig, PeftConfig\n",
    "from trl import SFTTrainer\n",
    "# from trl import setup_chat_format\n",
    "from transformers import (AutoModelForCausalLM, \n",
    "                          AutoTokenizer, \n",
    "                          BitsAndBytesConfig, \n",
    "                          TrainingArguments, \n",
    "                          pipeline, \n",
    "                          logging)\n",
    "from sklearn.metrics import (accuracy_score, \n",
    "                             classification_report, \n",
    "                             confusion_matrix)"
   ]
  },
  {
   "cell_type": "code",
   "execution_count": 4,
   "id": "7b976f8d-8a83-4cdb-9b41-9c558cf52fe9",
   "metadata": {},
   "outputs": [
    {
     "name": "stdout",
     "output_type": "stream",
     "text": [
      "working on cuda:0\n"
     ]
    }
   ],
   "source": [
    "device = torch.device(\"cuda:0\" if torch.cuda.is_available() else \"cpu\")\n",
    "print(f\"working on {device}\")"
   ]
  },
  {
   "cell_type": "code",
   "execution_count": 5,
   "id": "cb432033-af2f-43a3-9447-94803bf27155",
   "metadata": {},
   "outputs": [
    {
     "data": {
      "application/vnd.jupyter.widget-view+json": {
       "model_id": "b2dbd13b566e43a3a86af0517819ce17",
       "version_major": 2,
       "version_minor": 0
      },
      "text/plain": [
       "Loading checkpoint shards:   0%|          | 0/3 [00:00<?, ?it/s]"
      ]
     },
     "metadata": {},
     "output_type": "display_data"
    }
   ],
   "source": [
    "# model_name = \"meta-llama/Llama-2-7b-hf\"\n",
    "# model_name = \"meta-llama/Llama-2-13b-chat-hf\"\n",
    "# model_name = \"nousresearch/llama-2-7b-hf\"\n",
    "# model_name='DevilGod870/Llama-2-7b-chat-Hinglish'\n",
    "# peft_model_id = \"nateraw/llama-2-7b-english-to-hinglish\"\n",
    "# model_name='sarvamai/OpenHathi-7B-Hi-v0.1-Base'\n",
    "model_name = 'ai4bharat/Airavata'\n",
    "compute_dtype = getattr(torch, \"float16\")\n",
    "\n",
    "bnb_config = BitsAndBytesConfig(\n",
    "    load_in_4bit=True, \n",
    "    bnb_4bit_quant_type=\"nf4\", \n",
    "    bnb_4bit_compute_dtype=compute_dtype,\n",
    "    bnb_4bit_use_double_quant=True,\n",
    ")\n",
    "\n",
    "model = AutoModelForCausalLM.from_pretrained(\n",
    "    model_name,\n",
    "    device_map=device,\n",
    "    torch_dtype=compute_dtype,\n",
    "    quantization_config=bnb_config, \n",
    ")\n",
    "\n",
    "model.config.use_cache = False\n",
    "model.config.pretraining_tp = 1\n",
    "\n",
    "tokenizer = AutoTokenizer.from_pretrained(model_name, \n",
    "                                          trust_remote_code=True,\n",
    "                                         )\n",
    "tokenizer.pad_token = tokenizer.eos_token\n",
    "tokenizer.padding_side = \"right\"\n"
   ]
  },
  {
   "cell_type": "code",
   "execution_count": 6,
   "id": "e6b822b5-9cfc-4e79-b44e-ebf8f6ed76dc",
   "metadata": {},
   "outputs": [],
   "source": [
    "# from peft import PeftModel\n",
    "# model = PeftModel.from_pretrained(model, peft_model_id)"
   ]
  },
  {
   "cell_type": "code",
   "execution_count": 7,
   "id": "aebcc679-de00-4284-9d35-7de684c42b01",
   "metadata": {},
   "outputs": [
    {
     "data": {
      "application/vnd.jupyter.widget-view+json": {
       "model_id": "c2da72d6fa4144bc888357f9705c9788",
       "version_major": 2,
       "version_minor": 0
      },
      "text/plain": [
       "Map:   0%|          | 0/259 [00:00<?, ? examples/s]"
      ]
     },
     "metadata": {},
     "output_type": "display_data"
    },
    {
     "data": {
      "text/plain": [
       "Dataset({\n",
       "    features: ['text'],\n",
       "    num_rows: 259\n",
       "})"
      ]
     },
     "execution_count": 7,
     "metadata": {},
     "output_type": "execute_result"
    }
   ],
   "source": [
    "from datasets import load_dataset\n",
    "def format_dolly(sample):\n",
    "    context = f\"\\n question: {sample['instruction']} \\n\"\n",
    "    instruction = f\"<s> <|system|>\\n Answer the question based on the context below.\\n <|user|>\\n context: {sample['context']} \" \n",
    "    response = f\" <|assistant|>\\n [answer] {sample['response']} [/amswer] \"\n",
    "    # join all the parts together\n",
    "    prompt = \"\".join([i for i in [instruction, context, response] if i is not None])\n",
    "    return prompt\n",
    "\n",
    "# template dataset to add prompt to each sample\n",
    "def template_dataset(sample):\n",
    "    sample[\"text\"] = f\"{format_dolly(sample)}{tokenizer.eos_token}\"\n",
    "    return sample\n",
    "\n",
    "# apply prompt template per sample\n",
    "dataset = load_dataset(\"Vishwanath0912/qa_en_hi\", split=\"train\")\n",
    "\n",
    "# Shuffle the dataset\n",
    "dataset_shuffled = dataset.shuffle(seed=42)\n",
    "\n",
    "# Select the first 50 rows from the shuffled dataset, comment if you want 15k\n",
    "dataset = dataset_shuffled\n",
    "\n",
    "train_data = dataset.map(template_dataset, remove_columns=list(dataset.features))\n",
    "train_data"
   ]
  },
  {
   "cell_type": "code",
   "execution_count": 8,
   "id": "f3223c4f-9697-4445-ab16-eca6b996d4f5",
   "metadata": {},
   "outputs": [
    {
     "data": {
      "text/plain": [
       "{'text': \"<s> <|system|>\\n Answer the question based on the context below.\\n <|user|>\\n context: Djokovic and Murray met for the first time since the aforementioned French Open final in the championship match of the season - concluding ATP World Tour Finals in London in November . Of the five meetings ( all in championship matches ) that took place between the pair in 2016 , this one had added significance , as for the first time in tournament history , the two finalists had the chance to become year - end number 1 by winning the title . The stakes were high in Djokovic 's case , as a win would have seen him win his fifth consecutive year - end title , and sixth overall ( matching the record held by Roger Federer ) ; Murray , on the other hand , was shooting for his first year - end title , having qualified for the championship match for the first time . Ultimately , Murray won in straight sets , ensuring he ended the year ranked world number one , and also becoming the first man other than Djokovic , Federer or Rafael Nadal to finish the year at the top of the rankings since Andy Roddick in 2003 . \\n question: Roger Federer ne first grand slam kab win kiya tha ? \\n <|assistant|>\\n [answer] 2003 [/amswer] </s>\"}"
      ]
     },
     "execution_count": 8,
     "metadata": {},
     "output_type": "execute_result"
    }
   ],
   "source": [
    "train_data[0]"
   ]
  },
  {
   "cell_type": "code",
   "execution_count": 9,
   "id": "cfa7da0f-0abd-468e-a483-d247115cedca",
   "metadata": {},
   "outputs": [
    {
     "data": {
      "application/vnd.jupyter.widget-view+json": {
       "model_id": "e69e8e5eed874c93a221ebf014c9bdb1",
       "version_major": 2,
       "version_minor": 0
      },
      "text/plain": [
       "Map:   0%|          | 0/259 [00:00<?, ? examples/s]"
      ]
     },
     "metadata": {},
     "output_type": "display_data"
    },
    {
     "name": "stderr",
     "output_type": "stream",
     "text": [
      "Detected kernel version 5.4.0, which is below the recommended minimum of 5.5.0; this can cause the process to hang. It is recommended to upgrade the kernel to the minimum version or higher.\n"
     ]
    }
   ],
   "source": [
    "output_dir=\"trained_weigths\"\n",
    "\n",
    "peft_config = LoraConfig(\n",
    "        lora_alpha=32, \n",
    "        lora_dropout=0.05,\n",
    "        r=16,\n",
    "        bias=\"none\",\n",
    "        target_modules= [\"q_proj\", \"v_proj\", \"k_proj\", \"down_proj\", \"gate_proj\", \"up_proj\"],\n",
    "        task_type=\"CAUSAL_LM\",\n",
    ")\n",
    "\n",
    "training_arguments = TrainingArguments(\n",
    "    output_dir=output_dir,                    # directory to save and repository id\n",
    "    num_train_epochs=10,                       # number of training epochs\n",
    "    per_device_train_batch_size=16,            # batch size per device during training\n",
    "    gradient_accumulation_steps=16,            # number of steps before performing a backward/update pass\n",
    "    gradient_checkpointing=True,              # use gradient checkpointing to save memory\n",
    "    optim=\"paged_adamw_32bit\",\n",
    "    save_steps=0,\n",
    "    logging_steps=25,                         # log every 10 steps\n",
    "    learning_rate=5e-4,                       # learning rate, based on QLoRA paper\n",
    "    weight_decay=0.001,\n",
    "    fp16=True,\n",
    "    bf16=False,\n",
    "    max_grad_norm=0.3,                        # max gradient norm based on QLoRA paper\n",
    "    max_steps=-1,\n",
    "    warmup_ratio=0.03,                        # warmup ratio based on QLoRA paper\n",
    "    group_by_length=True,\n",
    "    lr_scheduler_type=\"cosine\",               # use cosine learning rate scheduler\n",
    "    report_to=\"tensorboard\",                  # report metrics to tensorboard\n",
    "    # evaluation_strategy=\"epoch\"               # save checkpoint every epoch\n",
    ")\n",
    "\n",
    "trainer = SFTTrainer(\n",
    "    model=model,\n",
    "    args=training_arguments,\n",
    "    train_dataset=train_data,\n",
    "    # eval_dataset=train_data,\n",
    "    peft_config=peft_config,\n",
    "    dataset_text_field=\"text\",\n",
    "    tokenizer=tokenizer,\n",
    "    max_seq_length=1024,\n",
    "    packing=False,\n",
    "    dataset_kwargs={\n",
    "        \"add_special_tokens\": False,\n",
    "        \"append_concat_token\": False,\n",
    "    }\n",
    ")"
   ]
  },
  {
   "cell_type": "code",
   "execution_count": 10,
   "id": "a0586b48-bae7-4f6f-b3be-18297617ebe6",
   "metadata": {},
   "outputs": [
    {
     "name": "stderr",
     "output_type": "stream",
     "text": [
      "/usr/local/lib/python3.11/dist-packages/torch/utils/checkpoint.py:460: UserWarning: torch.utils.checkpoint: please pass in use_reentrant=True or use_reentrant=False explicitly. The default value of use_reentrant will be updated to be False in the future. To maintain current behavior, pass use_reentrant=True. It is recommended that you use use_reentrant=False. Refer to docs for more details on the differences between the two variants.\n",
      "  warnings.warn(\n"
     ]
    },
    {
     "data": {
      "text/html": [
       "\n",
       "    <div>\n",
       "      \n",
       "      <progress value='10' max='10' style='width:300px; height:20px; vertical-align: middle;'></progress>\n",
       "      [10/10 07:24, Epoch 9/10]\n",
       "    </div>\n",
       "    <table border=\"1\" class=\"dataframe\">\n",
       "  <thead>\n",
       " <tr style=\"text-align: left;\">\n",
       "      <th>Step</th>\n",
       "      <th>Training Loss</th>\n",
       "    </tr>\n",
       "  </thead>\n",
       "  <tbody>\n",
       "  </tbody>\n",
       "</table><p>"
      ],
      "text/plain": [
       "<IPython.core.display.HTML object>"
      ]
     },
     "metadata": {},
     "output_type": "display_data"
    },
    {
     "data": {
      "text/plain": [
       "TrainOutput(global_step=10, training_loss=2.343642234802246, metrics={'train_runtime': 494.9081, 'train_samples_per_second': 5.233, 'train_steps_per_second': 0.02, 'total_flos': 3.822301993284403e+16, 'train_loss': 2.343642234802246, 'epoch': 9.41})"
      ]
     },
     "execution_count": 10,
     "metadata": {},
     "output_type": "execute_result"
    }
   ],
   "source": [
    "trainer.train()"
   ]
  },
  {
   "cell_type": "code",
   "execution_count": 11,
   "id": "7b060f02-b6fe-4f87-942a-8f13e76ea414",
   "metadata": {},
   "outputs": [
    {
     "data": {
      "text/plain": [
       "('trained_weigths/tokenizer_config.json',\n",
       " 'trained_weigths/special_tokens_map.json',\n",
       " 'trained_weigths/tokenizer.model',\n",
       " 'trained_weigths/added_tokens.json',\n",
       " 'trained_weigths/tokenizer.json')"
      ]
     },
     "execution_count": 11,
     "metadata": {},
     "output_type": "execute_result"
    }
   ],
   "source": [
    "trainer.save_model()\n",
    "tokenizer.save_pretrained(output_dir)"
   ]
  },
  {
   "cell_type": "code",
   "execution_count": 12,
   "id": "62e39e82-c1a3-4d21-a4d9-c27054271e30",
   "metadata": {},
   "outputs": [
    {
     "data": {
      "text/plain": [
       "0"
      ]
     },
     "execution_count": 12,
     "metadata": {},
     "output_type": "execute_result"
    }
   ],
   "source": [
    "# Empty VRAM\n",
    "del model\n",
    "# del pipe\n",
    "del trainer\n",
    "import gc\n",
    "gc.collect()\n",
    "gc.collect()"
   ]
  },
  {
   "cell_type": "code",
   "execution_count": null,
   "id": "ac1242bc-3200-4997-803e-c1e5aabd2192",
   "metadata": {},
   "outputs": [],
   "source": []
  },
  {
   "cell_type": "code",
   "execution_count": 13,
   "id": "550197fa-57d5-4440-8513-61c1a48d9bce",
   "metadata": {},
   "outputs": [
    {
     "data": {
      "application/vnd.jupyter.widget-view+json": {
       "model_id": "218b3b0263304d22864106354dc428ec",
       "version_major": 2,
       "version_minor": 0
      },
      "text/plain": [
       "Loading checkpoint shards:   0%|          | 0/3 [00:00<?, ?it/s]"
      ]
     },
     "metadata": {},
     "output_type": "display_data"
    },
    {
     "data": {
      "text/plain": [
       "('./merged_model/tokenizer_config.json',\n",
       " './merged_model/special_tokens_map.json',\n",
       " './merged_model/tokenizer.model',\n",
       " './merged_model/added_tokens.json',\n",
       " './merged_model/tokenizer.json')"
      ]
     },
     "execution_count": 13,
     "metadata": {},
     "output_type": "execute_result"
    }
   ],
   "source": [
    "from peft import AutoPeftModelForCausalLM\n",
    "\n",
    "finetuned_model = \"./trained_weigths/\"\n",
    "compute_dtype = getattr(torch, \"float16\")\n",
    "tokenizer = AutoTokenizer.from_pretrained(\"meta-llama/Llama-2-7b-hf\")\n",
    "\n",
    "model = AutoPeftModelForCausalLM.from_pretrained(\n",
    "     finetuned_model,\n",
    "     torch_dtype=compute_dtype,\n",
    "     return_dict=False,\n",
    "     low_cpu_mem_usage=True,\n",
    "     device_map=device,\n",
    ")\n",
    "\n",
    "merged_model = model.merge_and_unload()\n",
    "merged_model.save_pretrained(\"./merged_model\",safe_serialization=True, max_shard_size=\"2GB\")\n",
    "tokenizer.save_pretrained(\"./merged_model\")"
   ]
  },
  {
   "cell_type": "markdown",
   "id": "042b2bfd-fff7-45e5-b436-3d36589e84a0",
   "metadata": {},
   "source": [
    "# Testing\n"
   ]
  },
  {
   "cell_type": "code",
   "execution_count": 14,
   "id": "bea15843-3877-4780-ba18-780e10f89ee3",
   "metadata": {},
   "outputs": [
    {
     "data": {
      "application/vnd.jupyter.widget-view+json": {
       "model_id": "e4933571dc374c4289fc224eaa7d7a8d",
       "version_major": 2,
       "version_minor": 0
      },
      "text/plain": [
       "Map:   0%|          | 0/54 [00:00<?, ? examples/s]"
      ]
     },
     "metadata": {},
     "output_type": "display_data"
    },
    {
     "data": {
      "text/plain": [
       "Dataset({\n",
       "    features: ['text'],\n",
       "    num_rows: 54\n",
       "})"
      ]
     },
     "execution_count": 14,
     "metadata": {},
     "output_type": "execute_result"
    }
   ],
   "source": [
    "from datasets import load_dataset\n",
    "def format_dolly(sample):\n",
    "    context = f\"\\n question: {sample['instruction']} \\n \"\n",
    "    instruction = f\"<s> <|system|>\\n Answer the question based on the context below.\\n <|user|>\\n context: {sample['context']} \" \n",
    "    response = f\" <|assistant|>\\n\"\n",
    "    # join all the parts together\n",
    "    prompt = \"\".join([i for i in [instruction, context, response] if i is not None])\n",
    "    return prompt\n",
    "\n",
    "# template dataset to add prompt to each sample\n",
    "def template_dataset(sample):\n",
    "    sample[\"text\"] = f\"{format_dolly(sample)}{tokenizer.eos_token}\"\n",
    "    return sample\n",
    "\n",
    "# apply prompt template per sample\n",
    "dataset = load_dataset(\"Vishwanath0912/qa_en_hi\", split=\"validation\")\n",
    "\n",
    "# Shuffle the dataset\n",
    "# dataset_shuffled = dataset.shuffle(seed=42)\n",
    "\n",
    "# Select the first 50 rows from the shuffled dataset, comment if you want 15k\n",
    "# dataset = dataset_shuffled\n",
    "\n",
    "dataset = dataset.map(template_dataset, remove_columns=list(dataset.features))\n",
    "dataset"
   ]
  },
  {
   "cell_type": "code",
   "execution_count": 15,
   "id": "71cffb52-f786-4fa6-8a69-f400d26633ab",
   "metadata": {},
   "outputs": [
    {
     "data": {
      "text/plain": [
       "'<s> <|system|>\\n Answer the question based on the context below.\\n <|user|>\\n context: RTGS (Real Time Gross Settlement ) aur NEFT (National Electronic Funds Transfer) dono hi India mein Online paise bhejne ka jariya hain, Jiske dwara aap alag-alag Bank Accounts mein money transfer kar sakte hain. In dono payment System ko Reserve Bank of  India (RBI) manage karta hain. In dono payment system ke jariye sirf aap India ke andar hi paise send kar sakte hain. Aaiye jante hain dono mein kya difference hota hain. RTGS mein Funds turant hi transfer ho jate hain. Yeh different Bank ke beech mein fund transfer karne ka sabse fast medium hain. Rule yeh hain ki jis Bank ko paisa send kya gya hain usay receiver ke account mein 30 minutes ke andar paisa credit kar dena hota hain. Dusri aor NEFT ke tahat paise turant transfer nahi ho paate hain. Is System mein hours ke according time slot mein kaam hota hain. Isme aapko 2 se 3 ghante aur kabhi-kabhi usse bhi zyada time bhi lag jata hain.  Kya Bank account ka hona jaroori hain? Jinka Saving Account ya Current Account hain, Veh customer NEFT aur RTGS dono hi services ka use kar sakte hain. Lekin, jinke Bank account nahi hain, Veh sirf NEFT wali Branches mein cash deposit kar sakte hain. Halanki aap NEFT ke tahat 50,000 rupees se jyada Cash jama nahi karwa sakte hain.  Kab se kab tak hota hain transaction ? Aap RTGS ke tahat Morning 8 baje se shaam 4:30 Baje tak hi paise bhej sakte hain. Vah bhi jis din Bank open huye hote hain. Vahi, NEFT mein Subah 8 Baje se lekar shaam 7 Baje tak total 12 transfer kar sakte hain. Halanki, kai baar alag-alag Bank alag-alag time ka palan karte hain.  Online RTGS aap time table ke according hi kar sakte hain. Lekin online NEFT ke tahat agar Paisa time rahte nahi bheja gya toh saamne wale ko paisa Bank ke next working day par hi paisa milega.  Kitna Amount Send kar sakte hain? RTGS system ka use Big amount send karne ke liye hota hain. Isme minimum 2 Lakh aur Maximum 10 Lakh rupaye transfer kiye ja sakte hain. Vahi, NEFT mein aap jitna chahe utna paisa send kar sakte hain, Lekin yeh Sirf Online NEFT mein kar sakte hain, Offline yani ki Bank branch mein jakar Cash Deposit aap 50,000 se zyada nahi karwa karwa sakte hain.  Transaction agar Fail ho jaye toh ? RTGS ke tahat agar money send karne par agar paisa paane wale ke account mein paise jama nahi ho paye toh vah paisa automatically aapke Bank account mein dubara vaapis aa jata hain. Vahi NEFT transaction fail hone par Jis bank mein aapne paise bheje hain usay 2 hours ke andar aapke bank ko paise vaapis karne hote hain.  Charges kya hain ? Every NEFT transaction ke liye Services Tax ko chhod kar 25 Rupees se jyada charge nahi liya jayega. Vahi RTGS mein maximum fee 55 rupees hain. Aap Bank ke kisi bhi branch se transfer karne ke mukable Online Transaction karna zyada faydemand hota hain.  Kya transaction ko roka ja sakta hain? Yunki RTGS mein Real time transaction hota hain, isliye agar aapne transaction kar diya hain toh usay baad mein bhi rok sakte hain. Vahi, NEFT mein bhi aisa hi hota hain. \\n question: NEFT ka full form kya hai? \\n  <|assistant|>\\n</s>'"
      ]
     },
     "execution_count": 15,
     "metadata": {},
     "output_type": "execute_result"
    }
   ],
   "source": [
    "dataset[0]['text']"
   ]
  },
  {
   "cell_type": "code",
   "execution_count": 16,
   "id": "61eb355f-cb72-4977-b402-716e1c332a1f",
   "metadata": {},
   "outputs": [],
   "source": [
    "def extract_answer(strings):\n",
    "    answers = []\n",
    "    for s in strings:\n",
    "        start = s.find('[answer]') + len('[answer]')\n",
    "        end = s.find('[/answer]')\n",
    "        if start != -1 and end != -1:\n",
    "            answers.append(s[start:end])\n",
    "        else:\n",
    "            answers.append(\"\")\n",
    "            # print(s)\n",
    "    return answers"
   ]
  },
  {
   "cell_type": "code",
   "execution_count": 17,
   "id": "56accbf5-8f07-4d8d-a31f-21cb267aefa2",
   "metadata": {
    "scrolled": true
   },
   "outputs": [
    {
     "name": "stderr",
     "output_type": "stream",
     "text": [
      "  0%|                                                    | 0/54 [00:00<?, ?it/s]A decoder-only architecture is being used, but right-padding was detected! For correct generation results, please set `padding_side='left'` when initializing the tokenizer.\n",
      "  2%|▊                                           | 1/54 [00:01<01:02,  1.18s/it]A decoder-only architecture is being used, but right-padding was detected! For correct generation results, please set `padding_side='left'` when initializing the tokenizer.\n",
      "  4%|█▋                                          | 2/54 [00:02<00:53,  1.03s/it]A decoder-only architecture is being used, but right-padding was detected! For correct generation results, please set `padding_side='left'` when initializing the tokenizer.\n",
      "  6%|██▍                                         | 3/54 [00:03<00:50,  1.02it/s]A decoder-only architecture is being used, but right-padding was detected! For correct generation results, please set `padding_side='left'` when initializing the tokenizer.\n",
      "  7%|███▎                                        | 4/54 [00:03<00:47,  1.04it/s]A decoder-only architecture is being used, but right-padding was detected! For correct generation results, please set `padding_side='left'` when initializing the tokenizer.\n",
      "  9%|████                                        | 5/54 [00:04<00:46,  1.06it/s]A decoder-only architecture is being used, but right-padding was detected! For correct generation results, please set `padding_side='left'` when initializing the tokenizer.\n",
      " 11%|████▉                                       | 6/54 [00:05<00:45,  1.07it/s]A decoder-only architecture is being used, but right-padding was detected! For correct generation results, please set `padding_side='left'` when initializing the tokenizer.\n",
      " 13%|█████▋                                      | 7/54 [00:06<00:44,  1.06it/s]A decoder-only architecture is being used, but right-padding was detected! For correct generation results, please set `padding_side='left'` when initializing the tokenizer.\n",
      " 15%|██████▌                                     | 8/54 [00:07<00:39,  1.16it/s]A decoder-only architecture is being used, but right-padding was detected! For correct generation results, please set `padding_side='left'` when initializing the tokenizer.\n",
      " 17%|███████▎                                    | 9/54 [00:07<00:30,  1.47it/s]A decoder-only architecture is being used, but right-padding was detected! For correct generation results, please set `padding_side='left'` when initializing the tokenizer.\n",
      " 19%|███████▉                                   | 10/54 [00:08<00:33,  1.30it/s]A decoder-only architecture is being used, but right-padding was detected! For correct generation results, please set `padding_side='left'` when initializing the tokenizer.\n",
      " 20%|████████▊                                  | 11/54 [00:09<00:38,  1.13it/s]A decoder-only architecture is being used, but right-padding was detected! For correct generation results, please set `padding_side='left'` when initializing the tokenizer.\n",
      " 22%|█████████▌                                 | 12/54 [00:10<00:40,  1.04it/s]A decoder-only architecture is being used, but right-padding was detected! For correct generation results, please set `padding_side='left'` when initializing the tokenizer.\n",
      " 24%|██████████▎                                | 13/54 [00:12<00:41,  1.02s/it]A decoder-only architecture is being used, but right-padding was detected! For correct generation results, please set `padding_side='left'` when initializing the tokenizer.\n",
      " 26%|███████████▏                               | 14/54 [00:13<00:39,  1.00it/s]A decoder-only architecture is being used, but right-padding was detected! For correct generation results, please set `padding_side='left'` when initializing the tokenizer.\n",
      " 28%|███████████▉                               | 15/54 [00:14<00:39,  1.01s/it]A decoder-only architecture is being used, but right-padding was detected! For correct generation results, please set `padding_side='left'` when initializing the tokenizer.\n",
      " 30%|████████████▋                              | 16/54 [00:15<00:39,  1.03s/it]A decoder-only architecture is being used, but right-padding was detected! For correct generation results, please set `padding_side='left'` when initializing the tokenizer.\n",
      " 31%|█████████████▌                             | 17/54 [00:16<00:36,  1.00it/s]A decoder-only architecture is being used, but right-padding was detected! For correct generation results, please set `padding_side='left'` when initializing the tokenizer.\n",
      " 33%|██████████████▎                            | 18/54 [00:17<00:35,  1.02it/s]A decoder-only architecture is being used, but right-padding was detected! For correct generation results, please set `padding_side='left'` when initializing the tokenizer.\n",
      " 35%|███████████████▏                           | 19/54 [00:17<00:30,  1.16it/s]A decoder-only architecture is being used, but right-padding was detected! For correct generation results, please set `padding_side='left'` when initializing the tokenizer.\n",
      " 37%|███████████████▉                           | 20/54 [00:17<00:24,  1.41it/s]A decoder-only architecture is being used, but right-padding was detected! For correct generation results, please set `padding_side='left'` when initializing the tokenizer.\n",
      " 39%|████████████████▋                          | 21/54 [00:18<00:18,  1.80it/s]A decoder-only architecture is being used, but right-padding was detected! For correct generation results, please set `padding_side='left'` when initializing the tokenizer.\n",
      " 41%|█████████████████▌                         | 22/54 [00:19<00:21,  1.50it/s]A decoder-only architecture is being used, but right-padding was detected! For correct generation results, please set `padding_side='left'` when initializing the tokenizer.\n",
      " 43%|██████████████████▎                        | 23/54 [00:19<00:17,  1.81it/s]A decoder-only architecture is being used, but right-padding was detected! For correct generation results, please set `padding_side='left'` when initializing the tokenizer.\n",
      " 44%|███████████████████                        | 24/54 [00:20<00:19,  1.51it/s]A decoder-only architecture is being used, but right-padding was detected! For correct generation results, please set `padding_side='left'` when initializing the tokenizer.\n",
      " 46%|███████████████████▉                       | 25/54 [00:21<00:21,  1.36it/s]A decoder-only architecture is being used, but right-padding was detected! For correct generation results, please set `padding_side='left'` when initializing the tokenizer.\n",
      " 48%|████████████████████▋                      | 26/54 [00:21<00:16,  1.65it/s]A decoder-only architecture is being used, but right-padding was detected! For correct generation results, please set `padding_side='left'` when initializing the tokenizer.\n",
      " 50%|█████████████████████▌                     | 27/54 [00:22<00:18,  1.44it/s]A decoder-only architecture is being used, but right-padding was detected! For correct generation results, please set `padding_side='left'` when initializing the tokenizer.\n",
      " 52%|██████████████████████▎                    | 28/54 [00:23<00:19,  1.32it/s]A decoder-only architecture is being used, but right-padding was detected! For correct generation results, please set `padding_side='left'` when initializing the tokenizer.\n",
      " 54%|███████████████████████                    | 29/54 [00:24<00:20,  1.24it/s]A decoder-only architecture is being used, but right-padding was detected! For correct generation results, please set `padding_side='left'` when initializing the tokenizer.\n",
      " 56%|███████████████████████▉                   | 30/54 [00:25<00:20,  1.20it/s]A decoder-only architecture is being used, but right-padding was detected! For correct generation results, please set `padding_side='left'` when initializing the tokenizer.\n",
      " 57%|████████████████████████▋                  | 31/54 [00:25<00:16,  1.38it/s]A decoder-only architecture is being used, but right-padding was detected! For correct generation results, please set `padding_side='left'` when initializing the tokenizer.\n",
      " 59%|█████████████████████████▍                 | 32/54 [00:26<00:17,  1.28it/s]A decoder-only architecture is being used, but right-padding was detected! For correct generation results, please set `padding_side='left'` when initializing the tokenizer.\n",
      " 61%|██████████████████████████▎                | 33/54 [00:27<00:17,  1.22it/s]A decoder-only architecture is being used, but right-padding was detected! For correct generation results, please set `padding_side='left'` when initializing the tokenizer.\n",
      " 63%|███████████████████████████                | 34/54 [00:27<00:13,  1.44it/s]A decoder-only architecture is being used, but right-padding was detected! For correct generation results, please set `padding_side='left'` when initializing the tokenizer.\n",
      " 65%|███████████████████████████▊               | 35/54 [00:28<00:14,  1.32it/s]A decoder-only architecture is being used, but right-padding was detected! For correct generation results, please set `padding_side='left'` when initializing the tokenizer.\n",
      " 67%|████████████████████████████▋              | 36/54 [00:29<00:14,  1.24it/s]A decoder-only architecture is being used, but right-padding was detected! For correct generation results, please set `padding_side='left'` when initializing the tokenizer.\n",
      " 69%|█████████████████████████████▍             | 37/54 [00:30<00:14,  1.19it/s]A decoder-only architecture is being used, but right-padding was detected! For correct generation results, please set `padding_side='left'` when initializing the tokenizer.\n",
      " 70%|██████████████████████████████▎            | 38/54 [00:31<00:13,  1.16it/s]A decoder-only architecture is being used, but right-padding was detected! For correct generation results, please set `padding_side='left'` when initializing the tokenizer.\n",
      " 72%|███████████████████████████████            | 39/54 [00:32<00:13,  1.14it/s]A decoder-only architecture is being used, but right-padding was detected! For correct generation results, please set `padding_side='left'` when initializing the tokenizer.\n",
      " 74%|███████████████████████████████▊           | 40/54 [00:33<00:12,  1.13it/s]A decoder-only architecture is being used, but right-padding was detected! For correct generation results, please set `padding_side='left'` when initializing the tokenizer.\n",
      " 76%|████████████████████████████████▋          | 41/54 [00:34<00:11,  1.12it/s]A decoder-only architecture is being used, but right-padding was detected! For correct generation results, please set `padding_side='left'` when initializing the tokenizer.\n",
      " 78%|█████████████████████████████████▍         | 42/54 [00:35<00:10,  1.11it/s]A decoder-only architecture is being used, but right-padding was detected! For correct generation results, please set `padding_side='left'` when initializing the tokenizer.\n",
      " 80%|██████████████████████████████████▏        | 43/54 [00:36<00:09,  1.11it/s]A decoder-only architecture is being used, but right-padding was detected! For correct generation results, please set `padding_side='left'` when initializing the tokenizer.\n",
      " 81%|███████████████████████████████████        | 44/54 [00:36<00:09,  1.11it/s]A decoder-only architecture is being used, but right-padding was detected! For correct generation results, please set `padding_side='left'` when initializing the tokenizer.\n",
      " 83%|███████████████████████████████████▊       | 45/54 [00:37<00:08,  1.11it/s]A decoder-only architecture is being used, but right-padding was detected! For correct generation results, please set `padding_side='left'` when initializing the tokenizer.\n",
      " 85%|████████████████████████████████████▋      | 46/54 [00:38<00:07,  1.11it/s]A decoder-only architecture is being used, but right-padding was detected! For correct generation results, please set `padding_side='left'` when initializing the tokenizer.\n",
      " 87%|█████████████████████████████████████▍     | 47/54 [00:39<00:05,  1.38it/s]A decoder-only architecture is being used, but right-padding was detected! For correct generation results, please set `padding_side='left'` when initializing the tokenizer.\n",
      " 89%|██████████████████████████████████████▏    | 48/54 [00:39<00:03,  1.59it/s]A decoder-only architecture is being used, but right-padding was detected! For correct generation results, please set `padding_side='left'` when initializing the tokenizer.\n",
      " 91%|███████████████████████████████████████    | 49/54 [00:39<00:02,  1.78it/s]A decoder-only architecture is being used, but right-padding was detected! For correct generation results, please set `padding_side='left'` when initializing the tokenizer.\n",
      " 93%|███████████████████████████████████████▊   | 50/54 [00:40<00:02,  1.50it/s]A decoder-only architecture is being used, but right-padding was detected! For correct generation results, please set `padding_side='left'` when initializing the tokenizer.\n",
      " 94%|████████████████████████████████████████▌  | 51/54 [00:41<00:02,  1.35it/s]A decoder-only architecture is being used, but right-padding was detected! For correct generation results, please set `padding_side='left'` when initializing the tokenizer.\n",
      " 96%|█████████████████████████████████████████▍ | 52/54 [00:42<00:01,  1.26it/s]A decoder-only architecture is being used, but right-padding was detected! For correct generation results, please set `padding_side='left'` when initializing the tokenizer.\n",
      " 98%|██████████████████████████████████████████▏| 53/54 [00:43<00:00,  1.21it/s]A decoder-only architecture is being used, but right-padding was detected! For correct generation results, please set `padding_side='left'` when initializing the tokenizer.\n",
      "100%|███████████████████████████████████████████| 54/54 [00:44<00:00,  1.22it/s]\n"
     ]
    }
   ],
   "source": [
    "y_pred=[]\n",
    "for i in tqdm(range(len(dataset))):\n",
    "    prompt = dataset[i]['text']\n",
    "    inputs = tokenizer(prompt, return_tensors=\"pt\").to(device)\n",
    "    max_new_tokens = 32\n",
    "    temperature = 0.1\n",
    "    output = merged_model.generate(input_ids=inputs.input_ids, \n",
    "                               max_length=len(inputs.input_ids[0]) + max_new_tokens, \n",
    "                               temperature=temperature, \n",
    "                               pad_token_id=tokenizer.eos_token_id,\n",
    "                               eos_token_id=tokenizer.pad_token_id)\n",
    "    generated_text = tokenizer.decode(output[0], skip_special_tokens=True)\n",
    "    y_pred.append(generated_text)"
   ]
  },
  {
   "cell_type": "code",
   "execution_count": 18,
   "id": "890d5117-6a58-47f2-9d82-6575e8246348",
   "metadata": {},
   "outputs": [
    {
     "name": "stdout",
     "output_type": "stream",
     "text": [
      "['4', '9', '19', '49', '50', '54', '58', '68', '72', '80', '88', '89', '90', '107', '115', '133', '137', '140', '166', '200', '201', '202', '203', '204', '205', '206', '207', '208', '209', '210', '211', '212', '213', '214', '215', '216', '217', '218', '219', '220', '221', '222', '223', '224', '225', '226', '227', '228', '229', '230', '231', '232', '233', '234']\n",
      "File output at  airavata_10_32_0.1.json\n"
     ]
    }
   ],
   "source": [
    "fin_ans = extract_answer(y_pred)\n",
    "file = f\"meta18_llama_{max_new_tokens}_{temperature}.txt\"\n",
    "with open(file,'w') as f:\n",
    "    for i in y_pred:\n",
    "        f.write(i)\n",
    "        f.write(f\"\\n\")\n",
    "import json\n",
    "\n",
    "# Load the JSON file\n",
    "with open('chat_gpt_3.5.json', 'r') as f:\n",
    "    data = json.load(f)\n",
    "\n",
    "# Get the keys\n",
    "keys = list(data.keys())\n",
    "\n",
    "print(keys)\n",
    "data = dict(zip(keys, fin_ans))\n",
    "\n",
    "# Write the dictionary to a JSON file\n",
    "o_file = f\"airavata_10_{max_new_tokens}_{temperature}.json\"\n",
    "with open(o_file, 'w') as f:\n",
    "    json.dump(data, f)\n",
    "print(\"File output at \",o_file)"
   ]
  },
  {
   "cell_type": "code",
   "execution_count": 19,
   "id": "994404c3-de3c-4982-a138-b4f20ae65d26",
   "metadata": {},
   "outputs": [
    {
     "data": {
      "text/plain": [
       "{'4': '',\n",
       " '9': '',\n",
       " '19': '',\n",
       " '49': '',\n",
       " '50': '',\n",
       " '54': '',\n",
       " '58': '',\n",
       " '68': '',\n",
       " '72': '',\n",
       " '80': '',\n",
       " '88': '',\n",
       " '89': '',\n",
       " '90': '',\n",
       " '107': '',\n",
       " '115': '',\n",
       " '133': '',\n",
       " '137': '',\n",
       " '140': '',\n",
       " '166': '',\n",
       " '200': '',\n",
       " '201': '',\n",
       " '202': '',\n",
       " '203': '',\n",
       " '204': '',\n",
       " '205': '',\n",
       " '206': '',\n",
       " '207': '',\n",
       " '208': '',\n",
       " '209': '',\n",
       " '210': '',\n",
       " '211': '',\n",
       " '212': '',\n",
       " '213': '',\n",
       " '214': '',\n",
       " '215': '',\n",
       " '216': '',\n",
       " '217': '',\n",
       " '218': '',\n",
       " '219': '',\n",
       " '220': '',\n",
       " '221': '',\n",
       " '222': '',\n",
       " '223': '',\n",
       " '224': '',\n",
       " '225': '',\n",
       " '226': '',\n",
       " '227': '',\n",
       " '228': '',\n",
       " '229': '',\n",
       " '230': '',\n",
       " '231': '',\n",
       " '232': '',\n",
       " '233': '',\n",
       " '234': ''}"
      ]
     },
     "execution_count": 19,
     "metadata": {},
     "output_type": "execute_result"
    }
   ],
   "source": [
    "data"
   ]
  },
  {
   "cell_type": "code",
   "execution_count": null,
   "id": "00adfc9e-ace4-4a50-b7e0-276d6859424b",
   "metadata": {},
   "outputs": [],
   "source": []
  },
  {
   "cell_type": "code",
   "execution_count": null,
   "id": "3dcec094-1233-4d66-a8db-866671dffc62",
   "metadata": {},
   "outputs": [],
   "source": []
  },
  {
   "cell_type": "code",
   "execution_count": 20,
   "id": "ac434a28-2b7c-4bf2-9f56-9afb433e81fa",
   "metadata": {},
   "outputs": [],
   "source": [
    "# with open('dev-v2.0.json','r') as f:\n",
    "#     data = json.load(f)\n",
    "# actual = []\n",
    "# for fg in data['data']:\n",
    "#     actual.append(fg['paragraphs'][0]['qas'][0]['answers'][0]['text'])\n",
    "# actual[53]='6'"
   ]
  },
  {
   "cell_type": "code",
   "execution_count": null,
   "id": "069f5ec1-5559-4aa1-98e9-2178b6367c06",
   "metadata": {},
   "outputs": [],
   "source": []
  }
 ],
 "metadata": {
  "kernelspec": {
   "display_name": "Python 3 (ipykernel)",
   "language": "python",
   "name": "python3"
  },
  "language_info": {
   "codemirror_mode": {
    "name": "ipython",
    "version": 3
   },
   "file_extension": ".py",
   "mimetype": "text/x-python",
   "name": "python",
   "nbconvert_exporter": "python",
   "pygments_lexer": "ipython3",
   "version": "3.11.0rc1"
  }
 },
 "nbformat": 4,
 "nbformat_minor": 5
}
